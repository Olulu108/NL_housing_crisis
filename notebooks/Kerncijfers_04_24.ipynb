{
  "cells": [
    {
      "cell_type": "code",
      "execution_count": null,
      "metadata": {
        "colab": {
          "base_uri": "https://localhost:8080/"
        },
        "id": "e-IrS-88-kMx",
        "outputId": "58725e61-d0bd-4594-9381-a79bc2886dbd"
      },
      "outputs": [
        {
          "output_type": "stream",
          "name": "stdout",
          "text": [
            "Drive already mounted at /content/drive; to attempt to forcibly remount, call drive.mount(\"/content/drive\", force_remount=True).\n"
          ]
        }
      ],
      "source": [
        "from google.colab import drive\n",
        "drive.mount('/content/drive')\n",
        "import pandas as pd"
      ]
    },
    {
      "cell_type": "code",
      "source": [
        "# Read the Excel file\n",
        "\n",
        "import os\n",
        "\n",
        "def read_excel_files(start_year=2004, end_year=2024, folder_path=\"/content/drive/MyDrive/LE WAGON/final project/Kerncijfers wijken en buurten/\"):\n",
        "    for year in range(start_year, end_year + 1):\n",
        "        # Handle mixed file extensions\n",
        "        file_xlsx = os.path.join(folder_path, f\"kwb-{year}.xlsx\")\n",
        "        file_xls = os.path.join(folder_path, f\"kwb-{year}.xls\")\n",
        "\n",
        "        # Determine correct file format\n",
        "        if os.path.exists(file_xlsx):\n",
        "            file_path = file_xlsx\n",
        "        elif os.path.exists(file_xls):\n",
        "            file_path = file_xls\n",
        "        else:\n",
        "            print(f\"File for {year} not found, skipping...\")\n",
        "            continue\n",
        "\n",
        "        try:\n",
        "            globals()[f\"df_{year}\"] = pd.read_excel(file_path)  # Create a DataFrame dynamically\n",
        "            print(f\"Successfully read {file_path} into df_{year}\")\n",
        "        except Exception as e:\n",
        "            print(f\"Error reading {file_path}: {e}\")\n",
        "\n",
        "# Example usage\n",
        "read_excel_files()"
      ],
      "metadata": {
        "colab": {
          "base_uri": "https://localhost:8080/"
        },
        "id": "xhCQVW9WuOF5",
        "outputId": "c7376542-6479-4714-cb7c-e6508b248177"
      },
      "execution_count": null,
      "outputs": [
        {
          "output_type": "stream",
          "name": "stdout",
          "text": [
            "Successfully read /content/drive/MyDrive/LE WAGON/final project/Kerncijfers wijken en buurten/kwb-2004.xlsx into df_2004\n",
            "Successfully read /content/drive/MyDrive/LE WAGON/final project/Kerncijfers wijken en buurten/kwb-2005.xls into df_2005\n",
            "Successfully read /content/drive/MyDrive/LE WAGON/final project/Kerncijfers wijken en buurten/kwb-2006.xls into df_2006\n",
            "Successfully read /content/drive/MyDrive/LE WAGON/final project/Kerncijfers wijken en buurten/kwb-2007.xls into df_2007\n",
            "Successfully read /content/drive/MyDrive/LE WAGON/final project/Kerncijfers wijken en buurten/kwb-2008.xlsx into df_2008\n",
            "WARNING *** OLE2 inconsistency: SSCS size is 0 but SSAT size is non-zero\n",
            "Successfully read /content/drive/MyDrive/LE WAGON/final project/Kerncijfers wijken en buurten/kwb-2009.xls into df_2009\n",
            "Successfully read /content/drive/MyDrive/LE WAGON/final project/Kerncijfers wijken en buurten/kwb-2010.xls into df_2010\n",
            "Successfully read /content/drive/MyDrive/LE WAGON/final project/Kerncijfers wijken en buurten/kwb-2011.xls into df_2011\n",
            "Successfully read /content/drive/MyDrive/LE WAGON/final project/Kerncijfers wijken en buurten/kwb-2012.xls into df_2012\n",
            "Successfully read /content/drive/MyDrive/LE WAGON/final project/Kerncijfers wijken en buurten/kwb-2013.xls into df_2013\n",
            "Successfully read /content/drive/MyDrive/LE WAGON/final project/Kerncijfers wijken en buurten/kwb-2014.xls into df_2014\n",
            "Successfully read /content/drive/MyDrive/LE WAGON/final project/Kerncijfers wijken en buurten/kwb-2015.xlsx into df_2015\n",
            "Successfully read /content/drive/MyDrive/LE WAGON/final project/Kerncijfers wijken en buurten/kwb-2016.xls into df_2016\n",
            "Successfully read /content/drive/MyDrive/LE WAGON/final project/Kerncijfers wijken en buurten/kwb-2017.xls into df_2017\n",
            "Successfully read /content/drive/MyDrive/LE WAGON/final project/Kerncijfers wijken en buurten/kwb-2018.xls into df_2018\n",
            "Successfully read /content/drive/MyDrive/LE WAGON/final project/Kerncijfers wijken en buurten/kwb-2019.xlsx into df_2019\n",
            "Successfully read /content/drive/MyDrive/LE WAGON/final project/Kerncijfers wijken en buurten/kwb-2020.xlsx into df_2020\n",
            "Successfully read /content/drive/MyDrive/LE WAGON/final project/Kerncijfers wijken en buurten/kwb-2021.xlsx into df_2021\n",
            "Successfully read /content/drive/MyDrive/LE WAGON/final project/Kerncijfers wijken en buurten/kwb-2022.xlsx into df_2022\n",
            "Successfully read /content/drive/MyDrive/LE WAGON/final project/Kerncijfers wijken en buurten/kwb-2023.xlsx into df_2023\n",
            "Successfully read /content/drive/MyDrive/LE WAGON/final project/Kerncijfers wijken en buurten/kwb-2024.xlsx into df_2024\n"
          ]
        }
      ]
    },
    {
      "cell_type": "code",
      "source": [
        "df_2012.columns.tolist()"
      ],
      "metadata": {
        "id": "K5nuajpIwu9z",
        "colab": {
          "base_uri": "https://localhost:8080/"
        },
        "collapsed": true,
        "outputId": "d62e8097-91de-450f-b54a-234026cc285d"
      },
      "execution_count": null,
      "outputs": [
        {
          "output_type": "execute_result",
          "data": {
            "text/plain": [
              "['Code_10_pos12',\n",
              " 'GWB_CODE12',\n",
              " 'GWB_NAAM12_60POS',\n",
              " 'GWB_NAAM12_40POS',\n",
              " 'RECS',\n",
              " 'GM_CODE',\n",
              " 'WK_CODE',\n",
              " 'BU_CODE',\n",
              " 'GEM_NAAM',\n",
              " 'OAD',\n",
              " 'STED',\n",
              " 'POSTCODE',\n",
              " 'DEK_PERC',\n",
              " 'AANT_INW',\n",
              " 'AANT_MAN',\n",
              " 'AANT_VROUW',\n",
              " 'P_00_14_jr',\n",
              " 'P_15_24_jr',\n",
              " 'P_25_44_jr',\n",
              " 'P_45_64_jr',\n",
              " 'P_65_eo_jr',\n",
              " 'P_N_W_AL',\n",
              " 'P_TURKIJE',\n",
              " 'P_MAROKKO',\n",
              " 'P_SURINAM',\n",
              " 'P_ANT_ARU',\n",
              " 'P_OVER_NW',\n",
              " 'P_WEST_AL',\n",
              " 'P_EENP_HH',\n",
              " 'P_HH_Z_K',\n",
              " 'P_HH_M_K',\n",
              " 'AANTAL_HH',\n",
              " 'GEM_HH_GR',\n",
              " 'P_GEHUWD',\n",
              " 'P_GESCHEID',\n",
              " 'P_ONGEHUWD',\n",
              " 'P_VERWEDUW',\n",
              " 'AUTO_TOT',\n",
              " 'BEDR_AUTO',\n",
              " 'MOTOR_2W',\n",
              " 'AUTO_HH',\n",
              " 'AUTO_LAND',\n",
              " 'OPP_LAND',\n",
              " 'OPP_WATER',\n",
              " 'OPP_TOT',\n",
              " 'BEV_DICHTH',\n",
              " 'WONINGEN',\n",
              " 'P_WONT2000',\n",
              " 'P_WONV2000',\n",
              " 'woningwaarde',\n",
              " 'P_KOOPWON',\n",
              " 'P_HUURWON',\n",
              " 'P_HUUROVVH',\n",
              " 'P_HUURCORP',\n",
              " 'P_HUKO_ONB',\n",
              " 'P_LEEGSTAND',\n",
              " 'P_HOOGBOUW',\n",
              " 'Totaal (excl Overheid, onderwijs en zorg)',\n",
              " 'A Landbouw, Bosbouw en Visserij',\n",
              " 'B-F Nijverheid en Energie',\n",
              " 'G+I Handel en Horeca',\n",
              " 'H+J Vervoer, informatie en communicatie',\n",
              " 'K-l Financiële diensten, onroerend goed',\n",
              " 'M-N Zakelijke dienstverlening',\n",
              " 'R-U Cultuur, recreatie, overige diensten',\n",
              " 'GEBOO_TOT',\n",
              " 'P_GEBOO',\n",
              " 'STERFTE_TOT',\n",
              " 'P_STERFTE',\n",
              " 'WWB_UIT',\n",
              " 'P_WWB',\n",
              " 'AF_ARTSPR',\n",
              " 'AV3_ARTSPR',\n",
              " 'AV_ARTSPO',\n",
              " 'AF_ZIEKE',\n",
              " 'AV20_ZIEKE',\n",
              " 'AF_SUPERM',\n",
              " 'AF_RESTAU',\n",
              " 'AV3_SUPERM',\n",
              " 'AV3_RESTAU',\n",
              " 'AF_KDV',\n",
              " 'AV3_KDV',\n",
              " 'AF_ONDBAS',\n",
              " 'AV3_ONDBAS',\n",
              " 'AF_ONDMBO',\n",
              " 'AV5_ONDMBO',\n",
              " 'AF_ONDHV',\n",
              " 'AV5_ONDHV',\n",
              " 'AF_BIBLIO',\n",
              " 'AF_BIOS',\n",
              " 'AV10_BIOS',\n",
              " 'AF_ZWEMB',\n",
              " 'AF_OPRITH',\n",
              " 'AO_UIT_TOT',\n",
              " 'P_AO_UIT',\n",
              " 'WW_UIT_TOT',\n",
              " 'P_WW_UIT',\n",
              " 'P_GAS_TOT',\n",
              " 'P_GAS_APP',\n",
              " 'P_GAS_HOE',\n",
              " 'P_GAS_21K',\n",
              " 'P_GAS_TUS',\n",
              " 'P_GAS_VRY',\n",
              " 'P_STADVERW',\n",
              " 'P_ELEK_TOT',\n",
              " 'P_ELEK_APP',\n",
              " 'P_ELEK_HOE',\n",
              " 'P_ELEK_21K',\n",
              " 'P_ELEK_TUS',\n",
              " 'P_ELEK_VRY',\n",
              " 'AANT_INK2',\n",
              " 'INK_ONTV2',\n",
              " 'INK_INW2',\n",
              " 'P_LAAGINKP',\n",
              " 'P_HOOGINKP',\n",
              " 'P_NIET_ACT2',\n",
              " 'P_LAAGINKH',\n",
              " 'P_HOOGINKH',\n",
              " 'P_LKOOPKRH',\n",
              " 'P_SOCMINH']"
            ]
          },
          "metadata": {},
          "execution_count": 21
        }
      ]
    },
    {
      "cell_type": "code",
      "source": [
        "# add column jaar to each data frame\n",
        "\n",
        "for year in range(2004, 2025):\n",
        "    df_name = f'df_{year}'\n",
        "    if df_name in globals():  # Check if the dataframe exists\n",
        "        globals()[df_name]['year'] = year"
      ],
      "metadata": {
        "id": "gtkGJqFVUBjD"
      },
      "execution_count": null,
      "outputs": []
    },
    {
      "cell_type": "code",
      "source": [
        "print(df_2019['year'].head(10))"
      ],
      "metadata": {
        "colab": {
          "base_uri": "https://localhost:8080/"
        },
        "id": "Zb8_0nqvUw4H",
        "outputId": "38a58461-4f77-46fa-94d1-627a25cdd047"
      },
      "execution_count": null,
      "outputs": [
        {
          "output_type": "stream",
          "name": "stdout",
          "text": [
            "0    2019\n",
            "1    2019\n",
            "2    2019\n",
            "3    2019\n",
            "4    2019\n",
            "5    2019\n",
            "6    2019\n",
            "7    2019\n",
            "8    2019\n",
            "9    2019\n",
            "Name: year, dtype: int64\n"
          ]
        }
      ]
    },
    {
      "cell_type": "code",
      "source": [
        "# check various columns persence in data frames\n",
        "def check_columns_presence(columns_to_check, start_year=2004, end_year=2024):\n",
        "    column_presence = {col: [] for col in columns_to_check}  # Dictionary to store results\n",
        "\n",
        "    for year in range(start_year, end_year + 1):\n",
        "        df_name = f\"df_{year}\"\n",
        "        if df_name in globals():  # Check if DataFrame exists\n",
        "            df = globals()[df_name]  # Retrieve the DataFrame\n",
        "            for col in columns_to_check:\n",
        "                if col in df.columns:\n",
        "                    column_presence[col].append(year)  # Store year if column exists\n",
        "\n",
        "    # Print results\n",
        "    for col, years in column_presence.items():\n",
        "        if years:\n",
        "            print(f\"Column '{col}' exists in: {years}\")\n",
        "        else:\n",
        "            print(f\"Column '{col}' is NOT found in any DataFrame.\")\n",
        "\n",
        "# Example usage\n",
        "check_columns_presence([\"gm_naam\",\"GM_NAAM\",'GEM_NAAM', 'AANT_INW', 'a_inw', \"WONINGEN\", \"a_woning\",\"WOZ\", 'woningwaarde', 'g_woz', \"g_wozbag\", 'RECS', \"recs\",'g_hhgro', 'GEM_HH_GR', 'BEV_DICHTH', \\\n",
        "                        'bev_dich', 'p_leegsw','AANTAL_HH', 'a_hh','P_EENP_HH', 'p_1p_hh', 'a_1p_hh',  'P_KOOPWON',  'p_koopw',  'P_HUURWON', 'p_huurw', \\\n",
        "                        \"INK_ONTV\", \"INK_ONTV2\", \"g_ink_po\", \"year\"])"
      ],
      "metadata": {
        "colab": {
          "base_uri": "https://localhost:8080/"
        },
        "id": "4_TsETcb6Jh7",
        "outputId": "9101b921-3b2b-48d2-d7f0-c202c5e210d9"
      },
      "execution_count": null,
      "outputs": [
        {
          "output_type": "stream",
          "name": "stdout",
          "text": [
            "Column 'gm_naam' exists in: [2013, 2014, 2015, 2016, 2017, 2018, 2019, 2020, 2021, 2022, 2023, 2024]\n",
            "Column 'GM_NAAM' exists in: [2004, 2005, 2006, 2007, 2008, 2009, 2010, 2011]\n",
            "Column 'GEM_NAAM' exists in: [2012]\n",
            "Column 'AANT_INW' exists in: [2004, 2005, 2006, 2007, 2008, 2009, 2010, 2011, 2012]\n",
            "Column 'a_inw' exists in: [2013, 2014, 2015, 2016, 2017, 2018, 2019, 2020, 2021, 2022, 2023, 2024]\n",
            "Column 'WONINGEN' exists in: [2004, 2005, 2006, 2007, 2008, 2009, 2010, 2011, 2012]\n",
            "Column 'a_woning' exists in: [2013, 2014, 2015, 2016, 2017, 2018, 2019, 2020, 2021, 2022, 2023, 2024]\n",
            "Column 'WOZ' exists in: [2004, 2005, 2006, 2007, 2008, 2009, 2010, 2011]\n",
            "Column 'woningwaarde' exists in: [2012]\n",
            "Column 'g_woz' exists in: [2013, 2014, 2015, 2016, 2017, 2018, 2019]\n",
            "Column 'g_wozbag' exists in: [2020, 2021, 2022, 2023, 2024]\n",
            "Column 'RECS' exists in: [2004, 2005, 2006, 2007, 2008, 2009, 2010, 2011, 2012]\n",
            "Column 'recs' exists in: [2013, 2014, 2015, 2016, 2017, 2018, 2019, 2020, 2021, 2022, 2023, 2024]\n",
            "Column 'g_hhgro' exists in: [2013, 2014, 2015, 2016, 2017, 2018, 2019, 2020, 2021, 2022, 2023, 2024]\n",
            "Column 'GEM_HH_GR' exists in: [2004, 2005, 2006, 2007, 2008, 2009, 2010, 2011, 2012]\n",
            "Column 'BEV_DICHTH' exists in: [2004, 2005, 2006, 2007, 2008, 2009, 2010, 2011, 2012]\n",
            "Column 'bev_dich' exists in: [2013, 2014, 2015, 2016, 2017, 2018, 2019, 2020, 2021, 2022, 2023, 2024]\n",
            "Column 'p_leegsw' exists in: [2013, 2014, 2015, 2016, 2017, 2018, 2019, 2020, 2021, 2022, 2023, 2024]\n",
            "Column 'AANTAL_HH' exists in: [2004, 2005, 2006, 2007, 2008, 2009, 2010, 2011, 2012]\n",
            "Column 'a_hh' exists in: [2013, 2014, 2015, 2016, 2017, 2018, 2019, 2020, 2021, 2022, 2023, 2024]\n",
            "Column 'P_EENP_HH' exists in: [2004, 2005, 2006, 2007, 2008, 2009, 2010, 2011, 2012]\n",
            "Column 'p_1p_hh' exists in: [2013, 2014]\n",
            "Column 'a_1p_hh' exists in: [2015, 2016, 2017, 2018, 2019, 2020, 2021, 2022, 2023, 2024]\n",
            "Column 'P_KOOPWON' exists in: [2004, 2005, 2009, 2010, 2011, 2012]\n",
            "Column 'p_koopw' exists in: [2013, 2014, 2015, 2016, 2017, 2018, 2019, 2020, 2021, 2022, 2023, 2024]\n",
            "Column 'P_HUURWON' exists in: [2004, 2005, 2009, 2010, 2011, 2012]\n",
            "Column 'p_huurw' exists in: [2013, 2014, 2015, 2016, 2017, 2018, 2019, 2020, 2021, 2022, 2023, 2024]\n",
            "Column 'INK_ONTV' exists in: [2004, 2005, 2006, 2007]\n",
            "Column 'INK_ONTV2' exists in: [2009, 2010, 2011, 2012]\n",
            "Column 'g_ink_po' exists in: [2013, 2014, 2015, 2016, 2017, 2018, 2019, 2020, 2021, 2022, 2023, 2024]\n",
            "Column 'year' exists in: [2004, 2005, 2006, 2007, 2008, 2009, 2010, 2011, 2012, 2013, 2014, 2015, 2016, 2017, 2018, 2019, 2020, 2021, 2022, 2023, 2024]\n"
          ]
        }
      ]
    },
    {
      "cell_type": "code",
      "source": [
        "#check if the sum of gemeente is equal to land in column recs\n",
        "\n",
        "# Sum 'a_inv' where 'resc' == 'Gemeente' in df_1019\n",
        "total_a_inw = df_2019.loc[df_2019['recs'] == 'Gemeente', 'a_inw'].sum()\n",
        "\n",
        "# Print the result\n",
        "print(f\"Total sum of 'a_inw' where 'recs' is 'Gemeente': {total_a_inw}\")\n",
        "\n",
        "#result: they are equal"
      ],
      "metadata": {
        "colab": {
          "base_uri": "https://localhost:8080/"
        },
        "id": "sC1bGhKrROa3",
        "outputId": "226aef19-09a7-476e-f8b3-04e47033c773"
      },
      "execution_count": null,
      "outputs": [
        {
          "output_type": "stream",
          "name": "stdout",
          "text": [
            "Total sum of 'a_inw' where 'recs' is 'Gemeente': 17282163\n"
          ]
        }
      ]
    },
    {
      "cell_type": "code",
      "source": [
        "# create column \"p_1p_hh\" from  \"a_1p_hh\" in df_2015 .....  df_2024   (number singel person households - percentage of single person households)\n",
        "#df_2015[\"p_1p_hh\"] = (df_2015[\"a_1p_hh\"] / df_2015[\"a_hh\"]) * 0.01\n",
        "\n",
        "def calculate_p_1p_hh(start_year=2015, end_year=2024):\n",
        "    for year in range(start_year, end_year + 1):\n",
        "        df_name = f\"df_{year}\"\n",
        "        if df_name in globals():\n",
        "            df = globals()[df_name]\n",
        "            df[\"p_1p_hh\"] = (df[\"a_1p_hh\"] / df[\"a_hh\"]) * 100\n",
        "        else:\n",
        "            print(f\"{df_name} not found.\")\n",
        "\n",
        "# Run the function\n",
        "calculate_p_1p_hh()"
      ],
      "metadata": {
        "id": "74bbYdGRKMD7"
      },
      "execution_count": null,
      "outputs": []
    },
    {
      "cell_type": "code",
      "source": [
        "# Rename column aantal inwoners\n",
        "for year in range(2004, 2025):\n",
        "    df_name = f\"df_{year}\"\n",
        "    df = globals().get(df_name)\n",
        "    if df is not None and \"AANT_INW\" in df.columns:\n",
        "        df.rename(columns={\"AANT_INW\": \"a_inw\"}, inplace=True)\n",
        "\n",
        "# Rename column woningen\n",
        "for year in range(2004, 2025):\n",
        "    df_name = f\"df_{year}\"\n",
        "    df = globals().get(df_name)\n",
        "    if df is not None and \"WONINGEN\" in df.columns:\n",
        "        df.rename(columns={\"WONINGEN\": \"a_woning\"}, inplace=True)\n",
        "\n",
        "# Rename column woz\n",
        "woz_variants = [\"WOZ\", \"woningwaarde\", \"g_wozbag\"]\n",
        "\n",
        "for year in range(2004, 2025):\n",
        "    df_name = f\"df_{year}\"\n",
        "    df = globals().get(df_name)\n",
        "\n",
        "    if df is not None:\n",
        "        for col in woz_variants:\n",
        "            if col in df.columns:\n",
        "                df.rename(columns={col: \"g_woz\"}, inplace=True)\n",
        "\n",
        "# Rename column 'RECS'\n",
        "for year in range(2004, 2025):\n",
        "    df_name = f\"df_{year}\"\n",
        "    df = globals().get(df_name)\n",
        "    if df is not None and 'RECS' in df.columns:\n",
        "        df.rename(columns={'RECS': \"recs\"}, inplace=True)\n",
        "\n",
        "\n",
        "# Rename column \"Gemiddelde huishoudensgrootte\"\n",
        "for year in range(2004, 2025):\n",
        "    df_name = f\"df_{year}\"\n",
        "    df = globals().get(df_name)\n",
        "    if df is not None and 'GEM_HH_GR' in df.columns:\n",
        "        df.rename(columns={'GEM_HH_GR': 'g_hhgro'}, inplace=True)\n",
        "\n",
        "# Rename column \"Bevolkingsdichtheid\"\n",
        "for year in range(2004, 2025):\n",
        "    df_name = f\"df_{year}\"\n",
        "    df = globals().get(df_name)\n",
        "    if df is not None and 'BEV_DICHTH' in df.columns:\n",
        "        df.rename(columns={'BEV_DICHTH': 'bev_dich'}, inplace=True)\n",
        "\n",
        "\n",
        "# Rename column Gemeentenaam\n",
        "for year in range(2004, 2025):\n",
        "    df_name = f\"df_{year}\"\n",
        "    df = globals().get(df_name)\n",
        "    if df is not None and \"GM_NAAM\" in df.columns:\n",
        "        df.rename(columns={\"GM_NAAM\": \"gm_naam\"}, inplace=True)\n",
        "\n",
        "for year in range(2004, 2025):\n",
        "    df_name = f\"df_{year}\"\n",
        "    df = globals().get(df_name)\n",
        "    if df is not None and \"GEM_NAAM\" in df.columns:\n",
        "        df.rename(columns={\"GEM_NAAM\": \"gm_naam\"}, inplace=True)\n",
        "\n",
        "# Rename column aantal Huishoudens\n",
        "for year in range(2004, 2025):\n",
        "    df_name = f\"df_{year}\"\n",
        "    df = globals().get(df_name)\n",
        "    if df is not None and 'AANTAL_HH' in df.columns:\n",
        "        df.rename(columns={'AANTAL_HH': 'a_hh'}, inplace=True)\n",
        "\n",
        "\n",
        "# Rename column percentage Eenpersoonshuishoudens\n",
        "for year in range(2004, 2025):\n",
        "    df_name = f\"df_{year}\"\n",
        "    df = globals().get(df_name)\n",
        "    if df is not None and 'P_EENP_HH' in df.columns:\n",
        "        df.rename(columns={'P_EENP_HH': 'p_1p_hh'}, inplace=True)\n",
        "\n",
        "\n",
        "# Rename column P_KOOPWON\n",
        "for year in range(2004, 2025):\n",
        "    df_name = f\"df_{year}\"\n",
        "    df = globals().get(df_name)\n",
        "    if df is not None and 'P_KOOPWON' in df.columns:\n",
        "        df.rename(columns={'P_KOOPWON': 'p_koopw'}, inplace=True)\n",
        "\n",
        "\n",
        "# Rename column P_HUURWON\n",
        "for year in range(2004, 2025):\n",
        "    df_name = f\"df_{year}\"\n",
        "    df = globals().get(df_name)\n",
        "    if df is not None and 'P_HUURWON' in df.columns:\n",
        "        df.rename(columns={'P_HUURWON': 'p_huurw'}, inplace=True)\n",
        "\n",
        "\n",
        "# Rename column Gemiddeld inkomen \"INK_ONTV\", \"INK_ONTV2\", \"g_ink_po\"\n",
        "for year in range(2004, 2025):\n",
        "    df_name = f\"df_{year}\"\n",
        "    df = globals().get(df_name)\n",
        "    if df is not None and 'INK_ONTV' in df.columns:\n",
        "        df.rename(columns={'INK_ONTV': 'g_ink_po'}, inplace=True)\n",
        "\n",
        "for year in range(2004, 2025):\n",
        "    df_name = f\"df_{year}\"\n",
        "    df = globals().get(df_name)\n",
        "    if df is not None and 'INK_ONTV2' in df.columns:\n",
        "        df.rename(columns={'INK_ONTV2': 'g_ink_po'}, inplace=True)"
      ],
      "metadata": {
        "id": "OLdXRll5LOih"
      },
      "execution_count": null,
      "outputs": []
    },
    {
      "cell_type": "code",
      "source": [
        "# check various columns persence in data frames\n",
        "def check_columns_presence(columns_to_check, start_year=2004, end_year=2024):\n",
        "    column_presence = {col: [] for col in columns_to_check}  # Dictionary to store results\n",
        "\n",
        "    for year in range(start_year, end_year + 1):\n",
        "        df_name = f\"df_{year}\"\n",
        "        if df_name in globals():  # Check if DataFrame exists\n",
        "            df = globals()[df_name]  # Retrieve the DataFrame\n",
        "            for col in columns_to_check:\n",
        "                if col in df.columns:\n",
        "                    column_presence[col].append(year)  # Store year if column exists\n",
        "\n",
        "    # Print results\n",
        "    for col, years in column_presence.items():\n",
        "        if years:\n",
        "            print(f\"Column '{col}' exists in: {years}\")\n",
        "        else:\n",
        "            print(f\"Column '{col}' is NOT found in any DataFrame.\")\n",
        "\n",
        "# Example usage\n",
        "check_columns_presence([\"gm_naam\",\"GM_NAAM\",'GEM_NAAM', 'AANT_INW', 'a_inw', \"WONINGEN\", \"a_woning\",\"WOZ\", 'woningwaarde', 'g_woz', \"g_wozbag\", 'RECS', \"recs\",'g_hhgro', 'GEM_HH_GR', 'BEV_DICHTH', \\\n",
        "                        'bev_dich', 'p_leegsw', 'AANTAL_HH', 'a_hh','P_EENP_HH', 'p_1p_hh', 'a_1p_hh',  'P_KOOPWON',  'p_koopw',  'P_HUURWON', 'p_huurw', \\\n",
        "                        \"INK_ONTV\", \"INK_ONTV2\", \"g_ink_po\", \"year\"])"
      ],
      "metadata": {
        "colab": {
          "base_uri": "https://localhost:8080/"
        },
        "id": "V0bwtUukME9l",
        "outputId": "928f1e3c-a16f-4e42-9fe6-cac0002f5cfe"
      },
      "execution_count": null,
      "outputs": [
        {
          "output_type": "stream",
          "name": "stdout",
          "text": [
            "Column 'gm_naam' exists in: [2004, 2005, 2006, 2007, 2008, 2009, 2010, 2011, 2012, 2013, 2014, 2015, 2016, 2017, 2018, 2019, 2020, 2021, 2022, 2023, 2024]\n",
            "Column 'GM_NAAM' is NOT found in any DataFrame.\n",
            "Column 'GEM_NAAM' is NOT found in any DataFrame.\n",
            "Column 'AANT_INW' is NOT found in any DataFrame.\n",
            "Column 'a_inw' exists in: [2004, 2005, 2006, 2007, 2008, 2009, 2010, 2011, 2012, 2013, 2014, 2015, 2016, 2017, 2018, 2019, 2020, 2021, 2022, 2023, 2024]\n",
            "Column 'WONINGEN' is NOT found in any DataFrame.\n",
            "Column 'a_woning' exists in: [2004, 2005, 2006, 2007, 2008, 2009, 2010, 2011, 2012, 2013, 2014, 2015, 2016, 2017, 2018, 2019, 2020, 2021, 2022, 2023, 2024]\n",
            "Column 'WOZ' is NOT found in any DataFrame.\n",
            "Column 'woningwaarde' is NOT found in any DataFrame.\n",
            "Column 'g_woz' exists in: [2004, 2005, 2006, 2007, 2008, 2009, 2010, 2011, 2012, 2013, 2014, 2015, 2016, 2017, 2018, 2019, 2020, 2021, 2022, 2023, 2024]\n",
            "Column 'g_wozbag' is NOT found in any DataFrame.\n",
            "Column 'RECS' is NOT found in any DataFrame.\n",
            "Column 'recs' exists in: [2004, 2005, 2006, 2007, 2008, 2009, 2010, 2011, 2012, 2013, 2014, 2015, 2016, 2017, 2018, 2019, 2020, 2021, 2022, 2023, 2024]\n",
            "Column 'g_hhgro' exists in: [2004, 2005, 2006, 2007, 2008, 2009, 2010, 2011, 2012, 2013, 2014, 2015, 2016, 2017, 2018, 2019, 2020, 2021, 2022, 2023, 2024]\n",
            "Column 'GEM_HH_GR' is NOT found in any DataFrame.\n",
            "Column 'BEV_DICHTH' is NOT found in any DataFrame.\n",
            "Column 'bev_dich' exists in: [2004, 2005, 2006, 2007, 2008, 2009, 2010, 2011, 2012, 2013, 2014, 2015, 2016, 2017, 2018, 2019, 2020, 2021, 2022, 2023, 2024]\n",
            "Column 'p_leegsw' exists in: [2013, 2014, 2015, 2016, 2017, 2018, 2019, 2020, 2021, 2022, 2023, 2024]\n",
            "Column 'AANTAL_HH' is NOT found in any DataFrame.\n",
            "Column 'a_hh' exists in: [2004, 2005, 2006, 2007, 2008, 2009, 2010, 2011, 2012, 2013, 2014, 2015, 2016, 2017, 2018, 2019, 2020, 2021, 2022, 2023, 2024]\n",
            "Column 'P_EENP_HH' is NOT found in any DataFrame.\n",
            "Column 'p_1p_hh' exists in: [2004, 2005, 2006, 2007, 2008, 2009, 2010, 2011, 2012, 2013, 2014, 2015, 2016, 2017, 2018, 2019, 2020, 2021, 2022, 2023, 2024]\n",
            "Column 'a_1p_hh' exists in: [2015, 2016, 2017, 2018, 2019, 2020, 2021, 2022, 2023, 2024]\n",
            "Column 'P_KOOPWON' is NOT found in any DataFrame.\n",
            "Column 'p_koopw' exists in: [2004, 2005, 2009, 2010, 2011, 2012, 2013, 2014, 2015, 2016, 2017, 2018, 2019, 2020, 2021, 2022, 2023, 2024]\n",
            "Column 'P_HUURWON' is NOT found in any DataFrame.\n",
            "Column 'p_huurw' exists in: [2004, 2005, 2009, 2010, 2011, 2012, 2013, 2014, 2015, 2016, 2017, 2018, 2019, 2020, 2021, 2022, 2023, 2024]\n",
            "Column 'INK_ONTV' is NOT found in any DataFrame.\n",
            "Column 'INK_ONTV2' is NOT found in any DataFrame.\n",
            "Column 'g_ink_po' exists in: [2004, 2005, 2006, 2007, 2009, 2010, 2011, 2012, 2013, 2014, 2015, 2016, 2017, 2018, 2019, 2020, 2021, 2022, 2023, 2024]\n",
            "Column 'year' exists in: [2004, 2005, 2006, 2007, 2008, 2009, 2010, 2011, 2012, 2013, 2014, 2015, 2016, 2017, 2018, 2019, 2020, 2021, 2022, 2023, 2024]\n"
          ]
        }
      ]
    },
    {
      "cell_type": "code",
      "source": [
        "# Desired columns\n",
        "cols_to_keep = [\"gm_naam\",\"recs\", \"a_inw\", \"a_woning\", \"g_woz\", \"g_hhgro\", \"bev_dich\", 'a_hh', 'p_1p_hh','p_koopw', 'p_huurw', 'g_ink_po','p_leegsw', \"year\"]\n",
        "\n",
        "# Container for filtered dataframes\n",
        "df_list = []\n",
        "\n",
        "for year in range(2004, 2025):\n",
        "    df_name = f\"df_{year}\"\n",
        "    df = globals().get(df_name)\n",
        "\n",
        "    if df is not None:\n",
        "        df = df.copy()  # to avoid modifying original\n",
        "        df[\"year\"] = year  # ensure the 'year' column exists\n",
        "        # Only keep columns that are in the current df\n",
        "        existing_cols = [col for col in cols_to_keep if col in df.columns]\n",
        "        df_filtered = df[existing_cols]\n",
        "        df_list.append(df_filtered)\n",
        "\n",
        "# Concatenate all years into one dataframe\n",
        "combined_df = pd.concat(df_list, ignore_index=True)"
      ],
      "metadata": {
        "id": "GeII7_9iZdGB"
      },
      "execution_count": null,
      "outputs": []
    },
    {
      "cell_type": "code",
      "source": [
        "combined_df.head(10)"
      ],
      "metadata": {
        "colab": {
          "base_uri": "https://localhost:8080/",
          "height": 363
        },
        "id": "Ya8xAtgQZlUN",
        "outputId": "484ca3e2-dc4b-48a7-fc73-3e986c19863d"
      },
      "execution_count": null,
      "outputs": [
        {
          "output_type": "execute_result",
          "data": {
            "text/plain": [
              "      gm_naam      recs     a_inw a_woning g_woz g_hhgro bev_dich     a_hh  \\\n",
              "0         NaN       NaN  16258030  6809580   134     2,3      481  7049280   \n",
              "1  Appingedam  Gemeente     12420     5630    76     2,2      521     5530   \n",
              "2  Appingedam      Wijk     12420     5630    76     2,2      521     5530   \n",
              "3  Appingedam     Buurt      2440     1340    72     1,9     2935     1300   \n",
              "4  Appingedam     Buurt      3240     1275   106     2,5     2134     1280   \n",
              "5  Appingedam     Buurt      6330     2855    63     2,2     2215     2790   \n",
              "6  Appingedam     Buurt       150       60   115     2,6       27       60   \n",
              "7  Appingedam     Buurt       110       45   121     2,5       19       40   \n",
              "8  Appingedam     Buurt       150       55   116     2,4       20       60   \n",
              "9       Bedum  Gemeente     10820     4160   101     2,5      243     4170   \n",
              "\n",
              "  p_1p_hh p_koopw p_huurw g_ink_po  year  \n",
              "0      34      53      47     17,7  2004  \n",
              "1      31      47      53     16,2  2004  \n",
              "2      31      47      53     16,2  2004  \n",
              "3      47      41      59     16,7  2004  \n",
              "4      18      66      34     18,6  2004  \n",
              "5      31      38      62     15,1  2004  \n",
              "6      12      91       9        x  2004  \n",
              "7      19      83      17        x  2004  \n",
              "8      19      75      25        x  2004  \n",
              "9      26      70      30     16,7  2004  "
            ],
            "text/html": [
              "\n",
              "  <div id=\"df-3a3d04fe-9eb2-4a46-bb7f-497260275d5d\" class=\"colab-df-container\">\n",
              "    <div>\n",
              "<style scoped>\n",
              "    .dataframe tbody tr th:only-of-type {\n",
              "        vertical-align: middle;\n",
              "    }\n",
              "\n",
              "    .dataframe tbody tr th {\n",
              "        vertical-align: top;\n",
              "    }\n",
              "\n",
              "    .dataframe thead th {\n",
              "        text-align: right;\n",
              "    }\n",
              "</style>\n",
              "<table border=\"1\" class=\"dataframe\">\n",
              "  <thead>\n",
              "    <tr style=\"text-align: right;\">\n",
              "      <th></th>\n",
              "      <th>gm_naam</th>\n",
              "      <th>recs</th>\n",
              "      <th>a_inw</th>\n",
              "      <th>a_woning</th>\n",
              "      <th>g_woz</th>\n",
              "      <th>g_hhgro</th>\n",
              "      <th>bev_dich</th>\n",
              "      <th>a_hh</th>\n",
              "      <th>p_1p_hh</th>\n",
              "      <th>p_koopw</th>\n",
              "      <th>p_huurw</th>\n",
              "      <th>g_ink_po</th>\n",
              "      <th>year</th>\n",
              "    </tr>\n",
              "  </thead>\n",
              "  <tbody>\n",
              "    <tr>\n",
              "      <th>0</th>\n",
              "      <td>NaN</td>\n",
              "      <td>NaN</td>\n",
              "      <td>16258030</td>\n",
              "      <td>6809580</td>\n",
              "      <td>134</td>\n",
              "      <td>2,3</td>\n",
              "      <td>481</td>\n",
              "      <td>7049280</td>\n",
              "      <td>34</td>\n",
              "      <td>53</td>\n",
              "      <td>47</td>\n",
              "      <td>17,7</td>\n",
              "      <td>2004</td>\n",
              "    </tr>\n",
              "    <tr>\n",
              "      <th>1</th>\n",
              "      <td>Appingedam</td>\n",
              "      <td>Gemeente</td>\n",
              "      <td>12420</td>\n",
              "      <td>5630</td>\n",
              "      <td>76</td>\n",
              "      <td>2,2</td>\n",
              "      <td>521</td>\n",
              "      <td>5530</td>\n",
              "      <td>31</td>\n",
              "      <td>47</td>\n",
              "      <td>53</td>\n",
              "      <td>16,2</td>\n",
              "      <td>2004</td>\n",
              "    </tr>\n",
              "    <tr>\n",
              "      <th>2</th>\n",
              "      <td>Appingedam</td>\n",
              "      <td>Wijk</td>\n",
              "      <td>12420</td>\n",
              "      <td>5630</td>\n",
              "      <td>76</td>\n",
              "      <td>2,2</td>\n",
              "      <td>521</td>\n",
              "      <td>5530</td>\n",
              "      <td>31</td>\n",
              "      <td>47</td>\n",
              "      <td>53</td>\n",
              "      <td>16,2</td>\n",
              "      <td>2004</td>\n",
              "    </tr>\n",
              "    <tr>\n",
              "      <th>3</th>\n",
              "      <td>Appingedam</td>\n",
              "      <td>Buurt</td>\n",
              "      <td>2440</td>\n",
              "      <td>1340</td>\n",
              "      <td>72</td>\n",
              "      <td>1,9</td>\n",
              "      <td>2935</td>\n",
              "      <td>1300</td>\n",
              "      <td>47</td>\n",
              "      <td>41</td>\n",
              "      <td>59</td>\n",
              "      <td>16,7</td>\n",
              "      <td>2004</td>\n",
              "    </tr>\n",
              "    <tr>\n",
              "      <th>4</th>\n",
              "      <td>Appingedam</td>\n",
              "      <td>Buurt</td>\n",
              "      <td>3240</td>\n",
              "      <td>1275</td>\n",
              "      <td>106</td>\n",
              "      <td>2,5</td>\n",
              "      <td>2134</td>\n",
              "      <td>1280</td>\n",
              "      <td>18</td>\n",
              "      <td>66</td>\n",
              "      <td>34</td>\n",
              "      <td>18,6</td>\n",
              "      <td>2004</td>\n",
              "    </tr>\n",
              "    <tr>\n",
              "      <th>5</th>\n",
              "      <td>Appingedam</td>\n",
              "      <td>Buurt</td>\n",
              "      <td>6330</td>\n",
              "      <td>2855</td>\n",
              "      <td>63</td>\n",
              "      <td>2,2</td>\n",
              "      <td>2215</td>\n",
              "      <td>2790</td>\n",
              "      <td>31</td>\n",
              "      <td>38</td>\n",
              "      <td>62</td>\n",
              "      <td>15,1</td>\n",
              "      <td>2004</td>\n",
              "    </tr>\n",
              "    <tr>\n",
              "      <th>6</th>\n",
              "      <td>Appingedam</td>\n",
              "      <td>Buurt</td>\n",
              "      <td>150</td>\n",
              "      <td>60</td>\n",
              "      <td>115</td>\n",
              "      <td>2,6</td>\n",
              "      <td>27</td>\n",
              "      <td>60</td>\n",
              "      <td>12</td>\n",
              "      <td>91</td>\n",
              "      <td>9</td>\n",
              "      <td>x</td>\n",
              "      <td>2004</td>\n",
              "    </tr>\n",
              "    <tr>\n",
              "      <th>7</th>\n",
              "      <td>Appingedam</td>\n",
              "      <td>Buurt</td>\n",
              "      <td>110</td>\n",
              "      <td>45</td>\n",
              "      <td>121</td>\n",
              "      <td>2,5</td>\n",
              "      <td>19</td>\n",
              "      <td>40</td>\n",
              "      <td>19</td>\n",
              "      <td>83</td>\n",
              "      <td>17</td>\n",
              "      <td>x</td>\n",
              "      <td>2004</td>\n",
              "    </tr>\n",
              "    <tr>\n",
              "      <th>8</th>\n",
              "      <td>Appingedam</td>\n",
              "      <td>Buurt</td>\n",
              "      <td>150</td>\n",
              "      <td>55</td>\n",
              "      <td>116</td>\n",
              "      <td>2,4</td>\n",
              "      <td>20</td>\n",
              "      <td>60</td>\n",
              "      <td>19</td>\n",
              "      <td>75</td>\n",
              "      <td>25</td>\n",
              "      <td>x</td>\n",
              "      <td>2004</td>\n",
              "    </tr>\n",
              "    <tr>\n",
              "      <th>9</th>\n",
              "      <td>Bedum</td>\n",
              "      <td>Gemeente</td>\n",
              "      <td>10820</td>\n",
              "      <td>4160</td>\n",
              "      <td>101</td>\n",
              "      <td>2,5</td>\n",
              "      <td>243</td>\n",
              "      <td>4170</td>\n",
              "      <td>26</td>\n",
              "      <td>70</td>\n",
              "      <td>30</td>\n",
              "      <td>16,7</td>\n",
              "      <td>2004</td>\n",
              "    </tr>\n",
              "  </tbody>\n",
              "</table>\n",
              "</div>\n",
              "    <div class=\"colab-df-buttons\">\n",
              "\n",
              "  <div class=\"colab-df-container\">\n",
              "    <button class=\"colab-df-convert\" onclick=\"convertToInteractive('df-3a3d04fe-9eb2-4a46-bb7f-497260275d5d')\"\n",
              "            title=\"Convert this dataframe to an interactive table.\"\n",
              "            style=\"display:none;\">\n",
              "\n",
              "  <svg xmlns=\"http://www.w3.org/2000/svg\" height=\"24px\" viewBox=\"0 -960 960 960\">\n",
              "    <path d=\"M120-120v-720h720v720H120Zm60-500h600v-160H180v160Zm220 220h160v-160H400v160Zm0 220h160v-160H400v160ZM180-400h160v-160H180v160Zm440 0h160v-160H620v160ZM180-180h160v-160H180v160Zm440 0h160v-160H620v160Z\"/>\n",
              "  </svg>\n",
              "    </button>\n",
              "\n",
              "  <style>\n",
              "    .colab-df-container {\n",
              "      display:flex;\n",
              "      gap: 12px;\n",
              "    }\n",
              "\n",
              "    .colab-df-convert {\n",
              "      background-color: #E8F0FE;\n",
              "      border: none;\n",
              "      border-radius: 50%;\n",
              "      cursor: pointer;\n",
              "      display: none;\n",
              "      fill: #1967D2;\n",
              "      height: 32px;\n",
              "      padding: 0 0 0 0;\n",
              "      width: 32px;\n",
              "    }\n",
              "\n",
              "    .colab-df-convert:hover {\n",
              "      background-color: #E2EBFA;\n",
              "      box-shadow: 0px 1px 2px rgba(60, 64, 67, 0.3), 0px 1px 3px 1px rgba(60, 64, 67, 0.15);\n",
              "      fill: #174EA6;\n",
              "    }\n",
              "\n",
              "    .colab-df-buttons div {\n",
              "      margin-bottom: 4px;\n",
              "    }\n",
              "\n",
              "    [theme=dark] .colab-df-convert {\n",
              "      background-color: #3B4455;\n",
              "      fill: #D2E3FC;\n",
              "    }\n",
              "\n",
              "    [theme=dark] .colab-df-convert:hover {\n",
              "      background-color: #434B5C;\n",
              "      box-shadow: 0px 1px 3px 1px rgba(0, 0, 0, 0.15);\n",
              "      filter: drop-shadow(0px 1px 2px rgba(0, 0, 0, 0.3));\n",
              "      fill: #FFFFFF;\n",
              "    }\n",
              "  </style>\n",
              "\n",
              "    <script>\n",
              "      const buttonEl =\n",
              "        document.querySelector('#df-3a3d04fe-9eb2-4a46-bb7f-497260275d5d button.colab-df-convert');\n",
              "      buttonEl.style.display =\n",
              "        google.colab.kernel.accessAllowed ? 'block' : 'none';\n",
              "\n",
              "      async function convertToInteractive(key) {\n",
              "        const element = document.querySelector('#df-3a3d04fe-9eb2-4a46-bb7f-497260275d5d');\n",
              "        const dataTable =\n",
              "          await google.colab.kernel.invokeFunction('convertToInteractive',\n",
              "                                                    [key], {});\n",
              "        if (!dataTable) return;\n",
              "\n",
              "        const docLinkHtml = 'Like what you see? Visit the ' +\n",
              "          '<a target=\"_blank\" href=https://colab.research.google.com/notebooks/data_table.ipynb>data table notebook</a>'\n",
              "          + ' to learn more about interactive tables.';\n",
              "        element.innerHTML = '';\n",
              "        dataTable['output_type'] = 'display_data';\n",
              "        await google.colab.output.renderOutput(dataTable, element);\n",
              "        const docLink = document.createElement('div');\n",
              "        docLink.innerHTML = docLinkHtml;\n",
              "        element.appendChild(docLink);\n",
              "      }\n",
              "    </script>\n",
              "  </div>\n",
              "\n",
              "\n",
              "<div id=\"df-c3da3753-c63e-4198-85cf-cf5da6aac9c0\">\n",
              "  <button class=\"colab-df-quickchart\" onclick=\"quickchart('df-c3da3753-c63e-4198-85cf-cf5da6aac9c0')\"\n",
              "            title=\"Suggest charts\"\n",
              "            style=\"display:none;\">\n",
              "\n",
              "<svg xmlns=\"http://www.w3.org/2000/svg\" height=\"24px\"viewBox=\"0 0 24 24\"\n",
              "     width=\"24px\">\n",
              "    <g>\n",
              "        <path d=\"M19 3H5c-1.1 0-2 .9-2 2v14c0 1.1.9 2 2 2h14c1.1 0 2-.9 2-2V5c0-1.1-.9-2-2-2zM9 17H7v-7h2v7zm4 0h-2V7h2v10zm4 0h-2v-4h2v4z\"/>\n",
              "    </g>\n",
              "</svg>\n",
              "  </button>\n",
              "\n",
              "<style>\n",
              "  .colab-df-quickchart {\n",
              "      --bg-color: #E8F0FE;\n",
              "      --fill-color: #1967D2;\n",
              "      --hover-bg-color: #E2EBFA;\n",
              "      --hover-fill-color: #174EA6;\n",
              "      --disabled-fill-color: #AAA;\n",
              "      --disabled-bg-color: #DDD;\n",
              "  }\n",
              "\n",
              "  [theme=dark] .colab-df-quickchart {\n",
              "      --bg-color: #3B4455;\n",
              "      --fill-color: #D2E3FC;\n",
              "      --hover-bg-color: #434B5C;\n",
              "      --hover-fill-color: #FFFFFF;\n",
              "      --disabled-bg-color: #3B4455;\n",
              "      --disabled-fill-color: #666;\n",
              "  }\n",
              "\n",
              "  .colab-df-quickchart {\n",
              "    background-color: var(--bg-color);\n",
              "    border: none;\n",
              "    border-radius: 50%;\n",
              "    cursor: pointer;\n",
              "    display: none;\n",
              "    fill: var(--fill-color);\n",
              "    height: 32px;\n",
              "    padding: 0;\n",
              "    width: 32px;\n",
              "  }\n",
              "\n",
              "  .colab-df-quickchart:hover {\n",
              "    background-color: var(--hover-bg-color);\n",
              "    box-shadow: 0 1px 2px rgba(60, 64, 67, 0.3), 0 1px 3px 1px rgba(60, 64, 67, 0.15);\n",
              "    fill: var(--button-hover-fill-color);\n",
              "  }\n",
              "\n",
              "  .colab-df-quickchart-complete:disabled,\n",
              "  .colab-df-quickchart-complete:disabled:hover {\n",
              "    background-color: var(--disabled-bg-color);\n",
              "    fill: var(--disabled-fill-color);\n",
              "    box-shadow: none;\n",
              "  }\n",
              "\n",
              "  .colab-df-spinner {\n",
              "    border: 2px solid var(--fill-color);\n",
              "    border-color: transparent;\n",
              "    border-bottom-color: var(--fill-color);\n",
              "    animation:\n",
              "      spin 1s steps(1) infinite;\n",
              "  }\n",
              "\n",
              "  @keyframes spin {\n",
              "    0% {\n",
              "      border-color: transparent;\n",
              "      border-bottom-color: var(--fill-color);\n",
              "      border-left-color: var(--fill-color);\n",
              "    }\n",
              "    20% {\n",
              "      border-color: transparent;\n",
              "      border-left-color: var(--fill-color);\n",
              "      border-top-color: var(--fill-color);\n",
              "    }\n",
              "    30% {\n",
              "      border-color: transparent;\n",
              "      border-left-color: var(--fill-color);\n",
              "      border-top-color: var(--fill-color);\n",
              "      border-right-color: var(--fill-color);\n",
              "    }\n",
              "    40% {\n",
              "      border-color: transparent;\n",
              "      border-right-color: var(--fill-color);\n",
              "      border-top-color: var(--fill-color);\n",
              "    }\n",
              "    60% {\n",
              "      border-color: transparent;\n",
              "      border-right-color: var(--fill-color);\n",
              "    }\n",
              "    80% {\n",
              "      border-color: transparent;\n",
              "      border-right-color: var(--fill-color);\n",
              "      border-bottom-color: var(--fill-color);\n",
              "    }\n",
              "    90% {\n",
              "      border-color: transparent;\n",
              "      border-bottom-color: var(--fill-color);\n",
              "    }\n",
              "  }\n",
              "</style>\n",
              "\n",
              "  <script>\n",
              "    async function quickchart(key) {\n",
              "      const quickchartButtonEl =\n",
              "        document.querySelector('#' + key + ' button');\n",
              "      quickchartButtonEl.disabled = true;  // To prevent multiple clicks.\n",
              "      quickchartButtonEl.classList.add('colab-df-spinner');\n",
              "      try {\n",
              "        const charts = await google.colab.kernel.invokeFunction(\n",
              "            'suggestCharts', [key], {});\n",
              "      } catch (error) {\n",
              "        console.error('Error during call to suggestCharts:', error);\n",
              "      }\n",
              "      quickchartButtonEl.classList.remove('colab-df-spinner');\n",
              "      quickchartButtonEl.classList.add('colab-df-quickchart-complete');\n",
              "    }\n",
              "    (() => {\n",
              "      let quickchartButtonEl =\n",
              "        document.querySelector('#df-c3da3753-c63e-4198-85cf-cf5da6aac9c0 button');\n",
              "      quickchartButtonEl.style.display =\n",
              "        google.colab.kernel.accessAllowed ? 'block' : 'none';\n",
              "    })();\n",
              "  </script>\n",
              "</div>\n",
              "\n",
              "    </div>\n",
              "  </div>\n"
            ],
            "application/vnd.google.colaboratory.intrinsic+json": {
              "type": "dataframe",
              "variable_name": "combined_df"
            }
          },
          "metadata": {},
          "execution_count": 30
        }
      ]
    },
    {
      "cell_type": "code",
      "source": [
        "#calculates the percentage of missing (null) values for each column\n",
        "null_percentage_df = combined_df.isnull().sum() / len(combined_df) * 100\n",
        "null_percentage_df"
      ],
      "metadata": {
        "colab": {
          "base_uri": "https://localhost:8080/",
          "height": 492
        },
        "id": "jGPyVCNzZk0t",
        "outputId": "72dd1ac9-b1c0-432d-c426-17ec1e3468d2"
      },
      "execution_count": null,
      "outputs": [
        {
          "output_type": "execute_result",
          "data": {
            "text/plain": [
              "gm_naam      0.002708\n",
              "recs         0.002407\n",
              "a_inw        0.000000\n",
              "a_woning     0.000000\n",
              "g_woz        0.000000\n",
              "g_hhgro      0.000000\n",
              "bev_dich     0.000000\n",
              "a_hh         0.000000\n",
              "p_1p_hh      1.670929\n",
              "p_koopw     12.978730\n",
              "p_huurw     12.978730\n",
              "g_ink_po     4.348205\n",
              "year         0.000000\n",
              "dtype: float64"
            ],
            "text/html": [
              "<div>\n",
              "<style scoped>\n",
              "    .dataframe tbody tr th:only-of-type {\n",
              "        vertical-align: middle;\n",
              "    }\n",
              "\n",
              "    .dataframe tbody tr th {\n",
              "        vertical-align: top;\n",
              "    }\n",
              "\n",
              "    .dataframe thead th {\n",
              "        text-align: right;\n",
              "    }\n",
              "</style>\n",
              "<table border=\"1\" class=\"dataframe\">\n",
              "  <thead>\n",
              "    <tr style=\"text-align: right;\">\n",
              "      <th></th>\n",
              "      <th>0</th>\n",
              "    </tr>\n",
              "  </thead>\n",
              "  <tbody>\n",
              "    <tr>\n",
              "      <th>gm_naam</th>\n",
              "      <td>0.002708</td>\n",
              "    </tr>\n",
              "    <tr>\n",
              "      <th>recs</th>\n",
              "      <td>0.002407</td>\n",
              "    </tr>\n",
              "    <tr>\n",
              "      <th>a_inw</th>\n",
              "      <td>0.000000</td>\n",
              "    </tr>\n",
              "    <tr>\n",
              "      <th>a_woning</th>\n",
              "      <td>0.000000</td>\n",
              "    </tr>\n",
              "    <tr>\n",
              "      <th>g_woz</th>\n",
              "      <td>0.000000</td>\n",
              "    </tr>\n",
              "    <tr>\n",
              "      <th>g_hhgro</th>\n",
              "      <td>0.000000</td>\n",
              "    </tr>\n",
              "    <tr>\n",
              "      <th>bev_dich</th>\n",
              "      <td>0.000000</td>\n",
              "    </tr>\n",
              "    <tr>\n",
              "      <th>a_hh</th>\n",
              "      <td>0.000000</td>\n",
              "    </tr>\n",
              "    <tr>\n",
              "      <th>p_1p_hh</th>\n",
              "      <td>1.670929</td>\n",
              "    </tr>\n",
              "    <tr>\n",
              "      <th>p_koopw</th>\n",
              "      <td>12.978730</td>\n",
              "    </tr>\n",
              "    <tr>\n",
              "      <th>p_huurw</th>\n",
              "      <td>12.978730</td>\n",
              "    </tr>\n",
              "    <tr>\n",
              "      <th>g_ink_po</th>\n",
              "      <td>4.348205</td>\n",
              "    </tr>\n",
              "    <tr>\n",
              "      <th>year</th>\n",
              "      <td>0.000000</td>\n",
              "    </tr>\n",
              "  </tbody>\n",
              "</table>\n",
              "</div><br><label><b>dtype:</b> float64</label>"
            ]
          },
          "metadata": {},
          "execution_count": 31
        }
      ]
    },
    {
      "cell_type": "code",
      "source": [
        "#Fill all NaN values in combined_df with 0\n",
        "combined_df = combined_df.fillna(0)"
      ],
      "metadata": {
        "id": "jo5FYNX8ZzAG"
      },
      "execution_count": null,
      "outputs": []
    },
    {
      "cell_type": "code",
      "source": [
        "#calculates the percentage of missing (null) values for each column\n",
        "null_percentage_df = combined_df.isnull().sum() / len(combined_df) * 100\n",
        "null_percentage_df"
      ],
      "metadata": {
        "collapsed": true,
        "colab": {
          "base_uri": "https://localhost:8080/",
          "height": 460
        },
        "id": "sq4KzUNsZ-ur",
        "outputId": "d0eb249b-6716-479d-f29c-b8317eb0bedd"
      },
      "execution_count": null,
      "outputs": [
        {
          "output_type": "execute_result",
          "data": {
            "text/plain": [
              "gm_naam     0.0\n",
              "recs        0.0\n",
              "a_inw       0.0\n",
              "a_woning    0.0\n",
              "g_woz       0.0\n",
              "g_hhgro     0.0\n",
              "bev_dich    0.0\n",
              "a_hh        0.0\n",
              "p_1p_hh     0.0\n",
              "p_koopw     0.0\n",
              "p_huurw     0.0\n",
              "year        0.0\n",
              "dtype: float64"
            ],
            "text/html": [
              "<div>\n",
              "<style scoped>\n",
              "    .dataframe tbody tr th:only-of-type {\n",
              "        vertical-align: middle;\n",
              "    }\n",
              "\n",
              "    .dataframe tbody tr th {\n",
              "        vertical-align: top;\n",
              "    }\n",
              "\n",
              "    .dataframe thead th {\n",
              "        text-align: right;\n",
              "    }\n",
              "</style>\n",
              "<table border=\"1\" class=\"dataframe\">\n",
              "  <thead>\n",
              "    <tr style=\"text-align: right;\">\n",
              "      <th></th>\n",
              "      <th>0</th>\n",
              "    </tr>\n",
              "  </thead>\n",
              "  <tbody>\n",
              "    <tr>\n",
              "      <th>gm_naam</th>\n",
              "      <td>0.0</td>\n",
              "    </tr>\n",
              "    <tr>\n",
              "      <th>recs</th>\n",
              "      <td>0.0</td>\n",
              "    </tr>\n",
              "    <tr>\n",
              "      <th>a_inw</th>\n",
              "      <td>0.0</td>\n",
              "    </tr>\n",
              "    <tr>\n",
              "      <th>a_woning</th>\n",
              "      <td>0.0</td>\n",
              "    </tr>\n",
              "    <tr>\n",
              "      <th>g_woz</th>\n",
              "      <td>0.0</td>\n",
              "    </tr>\n",
              "    <tr>\n",
              "      <th>g_hhgro</th>\n",
              "      <td>0.0</td>\n",
              "    </tr>\n",
              "    <tr>\n",
              "      <th>bev_dich</th>\n",
              "      <td>0.0</td>\n",
              "    </tr>\n",
              "    <tr>\n",
              "      <th>a_hh</th>\n",
              "      <td>0.0</td>\n",
              "    </tr>\n",
              "    <tr>\n",
              "      <th>p_1p_hh</th>\n",
              "      <td>0.0</td>\n",
              "    </tr>\n",
              "    <tr>\n",
              "      <th>p_koopw</th>\n",
              "      <td>0.0</td>\n",
              "    </tr>\n",
              "    <tr>\n",
              "      <th>p_huurw</th>\n",
              "      <td>0.0</td>\n",
              "    </tr>\n",
              "    <tr>\n",
              "      <th>year</th>\n",
              "      <td>0.0</td>\n",
              "    </tr>\n",
              "  </tbody>\n",
              "</table>\n",
              "</div><br><label><b>dtype:</b> float64</label>"
            ]
          },
          "metadata": {},
          "execution_count": 102
        }
      ]
    },
    {
      "cell_type": "code",
      "source": [
        "# Check if there are any negative values in the DataFrame\n",
        "negative_values = (combined_df.select_dtypes(include=['number']) < 0).any().any()\n",
        "\n",
        "# Print the result\n",
        "if negative_values:\n",
        "    print(\"There are negative values in the DataFrame.\")\n",
        "else:\n",
        "    print(\"There are no negative values in the DataFrame.\")"
      ],
      "metadata": {
        "colab": {
          "base_uri": "https://localhost:8080/"
        },
        "id": "V8PifjuoaFIQ",
        "outputId": "8ec9a2c7-a1ca-46f6-e7f5-4768cc799a10"
      },
      "execution_count": null,
      "outputs": [
        {
          "output_type": "stream",
          "name": "stdout",
          "text": [
            "There are no negative values in the DataFrame.\n"
          ]
        }
      ]
    },
    {
      "cell_type": "code",
      "source": [
        "print(combined_df.dtypes)"
      ],
      "metadata": {
        "colab": {
          "base_uri": "https://localhost:8080/"
        },
        "id": "8HrY9M0rahhK",
        "outputId": "7abce028-dcaa-4bba-fcb9-8848bf4833bb"
      },
      "execution_count": null,
      "outputs": [
        {
          "output_type": "stream",
          "name": "stdout",
          "text": [
            "gm_naam     object\n",
            "recs        object\n",
            "a_inw        int64\n",
            "a_woning    object\n",
            "g_woz       object\n",
            "g_hhgro     object\n",
            "bev_dich    object\n",
            "a_hh        object\n",
            "p_1p_hh     object\n",
            "p_koopw     object\n",
            "p_huurw     object\n",
            "g_ink_po    object\n",
            "year         int64\n",
            "dtype: object\n"
          ]
        }
      ]
    },
    {
      "cell_type": "code",
      "source": [
        "print(combined_df[combined_df[\"year\"] == 2024].head(10))"
      ],
      "metadata": {
        "colab": {
          "base_uri": "https://localhost:8080/"
        },
        "id": "YJzuwPSItgxk",
        "outputId": "d42124d4-86d0-42cc-eb22-8e110e7ee1ef"
      },
      "execution_count": null,
      "outputs": [
        {
          "output_type": "stream",
          "name": "stdout",
          "text": [
            "          gm_naam      recs     a_inw a_woning g_woz g_hhgro bev_dich  \\\n",
            "314080  Nederland      Land  17942942  8204049   379     2.1      533   \n",
            "314081  Groningen  Gemeente    243768   124258   300     1.7     1314   \n",
            "314082  Groningen      Wijk     24920    13809   279     1.2    10907   \n",
            "314083  Groningen     Buurt      4745     2532   297     1.2    12788   \n",
            "314084  Groningen     Buurt      6975     4017   275     1.2    12663   \n",
            "314085  Groningen     Buurt      4400     2740   252     1.3    16413   \n",
            "314086  Groningen     Buurt      1740     1060   276     1.2    17792   \n",
            "314087  Groningen     Buurt        10        0     .       2       52   \n",
            "314088  Groningen     Buurt      6575     3367   287     1.3    15118   \n",
            "314089  Groningen     Buurt         0        1     .       .        .   \n",
            "\n",
            "           a_hh    p_1p_hh p_koopw p_huurw g_ink_po  year  \n",
            "314080  8374404  39.890122      57      43        .  2024  \n",
            "314081   145764  60.888834      40      60        .  2024  \n",
            "314082    19890  81.372549      15      85        .  2024  \n",
            "314083     3910  83.248082      13      87        .  2024  \n",
            "314084     5715  82.677165      12      88        .  2024  \n",
            "314085     3510   80.19943      11      88        .  2024  \n",
            "314086     1410  80.851064      13      87        .  2024  \n",
            "314087        5        0.0       .       .        .  2024  \n",
            "314088     5025  80.298507      24      76        .  2024  \n",
            "314089        0        NaN       .       .        .  2024  \n"
          ]
        }
      ]
    },
    {
      "cell_type": "code",
      "source": [
        "cols_to_convert = [\"a_woning\", \"g_woz\", \"g_hhgro\", \"bev_dich\", \"a_hh\", \"p_1p_hh\", \"p_koopw\", 'g_ink_po', \"p_huurw\"]\n",
        "\n",
        "# creating new table\n",
        "combofin_424 = combined_df.copy()\n",
        "\n",
        "for col in cols_to_convert:\n",
        "    if combined_df[col].dtype == \"object\":\n",
        "        # Start with a fresh string version\n",
        "        combofin_424[col] = combined_df[col].astype(str)\n",
        "\n",
        "        # Replace commas with dots\n",
        "        combofin_424[col] = combofin_424[col].str.replace(',', '.', regex=False)\n",
        "\n",
        "        # Replace standalone \".\" with 0\n",
        "        combofin_424[col] = combofin_424[col].replace(r'^\\.$', '0', regex=True)\n",
        "\n",
        "        # Remove trailing dot with no decimals (e.g., \"47.\" → \"47\")\n",
        "        combofin_424[col] = combofin_424[col].str.replace(r'^(\\d+)\\.$', r'\\1', regex=True)\n",
        "\n",
        "         # Remove trailing commas (e.g., \"22.2,\" → \"22.2\")\n",
        "        combofin_424[col] = combofin_424[col].str.replace(r',\\s*$', '', regex=True)\n",
        "\n",
        "        # Replace \"x\" with a placeholder (e.g., \"0\" or keep as NaN later)\n",
        "        combofin_424[col] = combofin_424[col].replace([\"x\", \"-\", \"X\"], \"0\")\n",
        "\n",
        "        # Convert to numeric\n",
        "        combofin_424[col] = pd.to_numeric(combofin_424[col], errors='coerce')\n",
        "    else:\n",
        "        # If it's already numeric, just copy it over\n",
        "        combofin_424[col] = combined_df[col]\n",
        "\n",
        "\n",
        "# Check if the replacement and conversion worked\n",
        "print(combofin_424[cols_to_convert].head())"
      ],
      "metadata": {
        "colab": {
          "base_uri": "https://localhost:8080/"
        },
        "id": "2b09V6k5ubjy",
        "outputId": "70028ce9-fa31-4fe8-e745-b06d7b915d30"
      },
      "execution_count": null,
      "outputs": [
        {
          "output_type": "stream",
          "name": "stdout",
          "text": [
            "   a_woning  g_woz  g_hhgro  bev_dich     a_hh  p_1p_hh  p_koopw  g_ink_po  \\\n",
            "0   6809580    134      2.3       481  7049280     34.0     53.0      17.7   \n",
            "1      5630     76      2.2       521     5530     31.0     47.0      16.2   \n",
            "2      5630     76      2.2       521     5530     31.0     47.0      16.2   \n",
            "3      1340     72      1.9      2935     1300     47.0     41.0      16.7   \n",
            "4      1275    106      2.5      2134     1280     18.0     66.0      18.6   \n",
            "\n",
            "   p_huurw  \n",
            "0     47.0  \n",
            "1     53.0  \n",
            "2     53.0  \n",
            "3     59.0  \n",
            "4     34.0  \n"
          ]
        }
      ]
    },
    {
      "cell_type": "code",
      "source": [
        "#calculates the percentage of missing (null) values for each column\n",
        "null_per_df = combofin_424.isnull().sum() / len(combofin_424) * 100\n",
        "null_per_df"
      ],
      "metadata": {
        "colab": {
          "base_uri": "https://localhost:8080/",
          "height": 492
        },
        "id": "ZvXB2wpNASkg",
        "outputId": "ac3e8964-ace4-44bc-f60b-89845e92fd0e"
      },
      "execution_count": null,
      "outputs": [
        {
          "output_type": "execute_result",
          "data": {
            "text/plain": [
              "gm_naam     0.0\n",
              "recs        0.0\n",
              "a_inw       0.0\n",
              "a_woning    0.0\n",
              "g_woz       0.0\n",
              "g_hhgro     0.0\n",
              "bev_dich    0.0\n",
              "a_hh        0.0\n",
              "p_1p_hh     0.0\n",
              "p_koopw     0.0\n",
              "p_huurw     0.0\n",
              "g_ink_po    0.0\n",
              "year        0.0\n",
              "dtype: float64"
            ],
            "text/html": [
              "<div>\n",
              "<style scoped>\n",
              "    .dataframe tbody tr th:only-of-type {\n",
              "        vertical-align: middle;\n",
              "    }\n",
              "\n",
              "    .dataframe tbody tr th {\n",
              "        vertical-align: top;\n",
              "    }\n",
              "\n",
              "    .dataframe thead th {\n",
              "        text-align: right;\n",
              "    }\n",
              "</style>\n",
              "<table border=\"1\" class=\"dataframe\">\n",
              "  <thead>\n",
              "    <tr style=\"text-align: right;\">\n",
              "      <th></th>\n",
              "      <th>0</th>\n",
              "    </tr>\n",
              "  </thead>\n",
              "  <tbody>\n",
              "    <tr>\n",
              "      <th>gm_naam</th>\n",
              "      <td>0.0</td>\n",
              "    </tr>\n",
              "    <tr>\n",
              "      <th>recs</th>\n",
              "      <td>0.0</td>\n",
              "    </tr>\n",
              "    <tr>\n",
              "      <th>a_inw</th>\n",
              "      <td>0.0</td>\n",
              "    </tr>\n",
              "    <tr>\n",
              "      <th>a_woning</th>\n",
              "      <td>0.0</td>\n",
              "    </tr>\n",
              "    <tr>\n",
              "      <th>g_woz</th>\n",
              "      <td>0.0</td>\n",
              "    </tr>\n",
              "    <tr>\n",
              "      <th>g_hhgro</th>\n",
              "      <td>0.0</td>\n",
              "    </tr>\n",
              "    <tr>\n",
              "      <th>bev_dich</th>\n",
              "      <td>0.0</td>\n",
              "    </tr>\n",
              "    <tr>\n",
              "      <th>a_hh</th>\n",
              "      <td>0.0</td>\n",
              "    </tr>\n",
              "    <tr>\n",
              "      <th>p_1p_hh</th>\n",
              "      <td>0.0</td>\n",
              "    </tr>\n",
              "    <tr>\n",
              "      <th>p_koopw</th>\n",
              "      <td>0.0</td>\n",
              "    </tr>\n",
              "    <tr>\n",
              "      <th>p_huurw</th>\n",
              "      <td>0.0</td>\n",
              "    </tr>\n",
              "    <tr>\n",
              "      <th>g_ink_po</th>\n",
              "      <td>0.0</td>\n",
              "    </tr>\n",
              "    <tr>\n",
              "      <th>year</th>\n",
              "      <td>0.0</td>\n",
              "    </tr>\n",
              "  </tbody>\n",
              "</table>\n",
              "</div><br><label><b>dtype:</b> float64</label>"
            ]
          },
          "metadata": {},
          "execution_count": 81
        }
      ]
    },
    {
      "cell_type": "code",
      "source": [
        "combofin_424['g_ink_po'].value_counts(dropna=False, sort=False).sort_index()\n"
      ],
      "metadata": {
        "colab": {
          "base_uri": "https://localhost:8080/",
          "height": 490
        },
        "collapsed": true,
        "id": "VH43aWcNXUx_",
        "outputId": "7eb096e8-8595-49d3-f961-003a37ca9acc"
      },
      "execution_count": null,
      "outputs": [
        {
          "output_type": "execute_result",
          "data": {
            "text/plain": [
              "g_ink_po\n",
              "0.0      88779\n",
              "5.6          1\n",
              "5.9          1\n",
              "6.3          1\n",
              "6.5          1\n",
              "         ...  \n",
              "170.4        1\n",
              "172.3        1\n",
              "177.0        1\n",
              "184.0        1\n",
              "NaN      14453\n",
              "Name: count, Length: 1027, dtype: int64"
            ],
            "text/html": [
              "<div>\n",
              "<style scoped>\n",
              "    .dataframe tbody tr th:only-of-type {\n",
              "        vertical-align: middle;\n",
              "    }\n",
              "\n",
              "    .dataframe tbody tr th {\n",
              "        vertical-align: top;\n",
              "    }\n",
              "\n",
              "    .dataframe thead th {\n",
              "        text-align: right;\n",
              "    }\n",
              "</style>\n",
              "<table border=\"1\" class=\"dataframe\">\n",
              "  <thead>\n",
              "    <tr style=\"text-align: right;\">\n",
              "      <th></th>\n",
              "      <th>count</th>\n",
              "    </tr>\n",
              "    <tr>\n",
              "      <th>g_ink_po</th>\n",
              "      <th></th>\n",
              "    </tr>\n",
              "  </thead>\n",
              "  <tbody>\n",
              "    <tr>\n",
              "      <th>0.0</th>\n",
              "      <td>88779</td>\n",
              "    </tr>\n",
              "    <tr>\n",
              "      <th>5.6</th>\n",
              "      <td>1</td>\n",
              "    </tr>\n",
              "    <tr>\n",
              "      <th>5.9</th>\n",
              "      <td>1</td>\n",
              "    </tr>\n",
              "    <tr>\n",
              "      <th>6.3</th>\n",
              "      <td>1</td>\n",
              "    </tr>\n",
              "    <tr>\n",
              "      <th>6.5</th>\n",
              "      <td>1</td>\n",
              "    </tr>\n",
              "    <tr>\n",
              "      <th>...</th>\n",
              "      <td>...</td>\n",
              "    </tr>\n",
              "    <tr>\n",
              "      <th>170.4</th>\n",
              "      <td>1</td>\n",
              "    </tr>\n",
              "    <tr>\n",
              "      <th>172.3</th>\n",
              "      <td>1</td>\n",
              "    </tr>\n",
              "    <tr>\n",
              "      <th>177.0</th>\n",
              "      <td>1</td>\n",
              "    </tr>\n",
              "    <tr>\n",
              "      <th>184.0</th>\n",
              "      <td>1</td>\n",
              "    </tr>\n",
              "    <tr>\n",
              "      <th>NaN</th>\n",
              "      <td>14453</td>\n",
              "    </tr>\n",
              "  </tbody>\n",
              "</table>\n",
              "<p>1027 rows × 1 columns</p>\n",
              "</div><br><label><b>dtype:</b> int64</label>"
            ]
          },
          "metadata": {},
          "execution_count": 75
        }
      ]
    },
    {
      "cell_type": "code",
      "source": [
        "# combofin_424[combofin_424['g_ink_po'].isnull()]"
      ],
      "metadata": {
        "colab": {
          "base_uri": "https://localhost:8080/",
          "height": 53
        },
        "id": "OtcSuiG7bXNK",
        "outputId": "505be969-b8c5-48e2-e0f6-fb5f193b82ee"
      },
      "execution_count": null,
      "outputs": [
        {
          "output_type": "execute_result",
          "data": {
            "text/plain": [
              "Empty DataFrame\n",
              "Columns: [gm_naam, recs, a_inw, a_woning, g_woz, g_hhgro, bev_dich, a_hh, p_1p_hh, p_koopw, p_huurw, g_ink_po, year]\n",
              "Index: []"
            ],
            "text/html": [
              "\n",
              "  <div id=\"df-e2004831-b016-46a6-aec7-ce6b5ff06b42\" class=\"colab-df-container\">\n",
              "    <div>\n",
              "<style scoped>\n",
              "    .dataframe tbody tr th:only-of-type {\n",
              "        vertical-align: middle;\n",
              "    }\n",
              "\n",
              "    .dataframe tbody tr th {\n",
              "        vertical-align: top;\n",
              "    }\n",
              "\n",
              "    .dataframe thead th {\n",
              "        text-align: right;\n",
              "    }\n",
              "</style>\n",
              "<table border=\"1\" class=\"dataframe\">\n",
              "  <thead>\n",
              "    <tr style=\"text-align: right;\">\n",
              "      <th></th>\n",
              "      <th>gm_naam</th>\n",
              "      <th>recs</th>\n",
              "      <th>a_inw</th>\n",
              "      <th>a_woning</th>\n",
              "      <th>g_woz</th>\n",
              "      <th>g_hhgro</th>\n",
              "      <th>bev_dich</th>\n",
              "      <th>a_hh</th>\n",
              "      <th>p_1p_hh</th>\n",
              "      <th>p_koopw</th>\n",
              "      <th>p_huurw</th>\n",
              "      <th>g_ink_po</th>\n",
              "      <th>year</th>\n",
              "    </tr>\n",
              "  </thead>\n",
              "  <tbody>\n",
              "  </tbody>\n",
              "</table>\n",
              "</div>\n",
              "    <div class=\"colab-df-buttons\">\n",
              "\n",
              "  <div class=\"colab-df-container\">\n",
              "    <button class=\"colab-df-convert\" onclick=\"convertToInteractive('df-e2004831-b016-46a6-aec7-ce6b5ff06b42')\"\n",
              "            title=\"Convert this dataframe to an interactive table.\"\n",
              "            style=\"display:none;\">\n",
              "\n",
              "  <svg xmlns=\"http://www.w3.org/2000/svg\" height=\"24px\" viewBox=\"0 -960 960 960\">\n",
              "    <path d=\"M120-120v-720h720v720H120Zm60-500h600v-160H180v160Zm220 220h160v-160H400v160Zm0 220h160v-160H400v160ZM180-400h160v-160H180v160Zm440 0h160v-160H620v160ZM180-180h160v-160H180v160Zm440 0h160v-160H620v160Z\"/>\n",
              "  </svg>\n",
              "    </button>\n",
              "\n",
              "  <style>\n",
              "    .colab-df-container {\n",
              "      display:flex;\n",
              "      gap: 12px;\n",
              "    }\n",
              "\n",
              "    .colab-df-convert {\n",
              "      background-color: #E8F0FE;\n",
              "      border: none;\n",
              "      border-radius: 50%;\n",
              "      cursor: pointer;\n",
              "      display: none;\n",
              "      fill: #1967D2;\n",
              "      height: 32px;\n",
              "      padding: 0 0 0 0;\n",
              "      width: 32px;\n",
              "    }\n",
              "\n",
              "    .colab-df-convert:hover {\n",
              "      background-color: #E2EBFA;\n",
              "      box-shadow: 0px 1px 2px rgba(60, 64, 67, 0.3), 0px 1px 3px 1px rgba(60, 64, 67, 0.15);\n",
              "      fill: #174EA6;\n",
              "    }\n",
              "\n",
              "    .colab-df-buttons div {\n",
              "      margin-bottom: 4px;\n",
              "    }\n",
              "\n",
              "    [theme=dark] .colab-df-convert {\n",
              "      background-color: #3B4455;\n",
              "      fill: #D2E3FC;\n",
              "    }\n",
              "\n",
              "    [theme=dark] .colab-df-convert:hover {\n",
              "      background-color: #434B5C;\n",
              "      box-shadow: 0px 1px 3px 1px rgba(0, 0, 0, 0.15);\n",
              "      filter: drop-shadow(0px 1px 2px rgba(0, 0, 0, 0.3));\n",
              "      fill: #FFFFFF;\n",
              "    }\n",
              "  </style>\n",
              "\n",
              "    <script>\n",
              "      const buttonEl =\n",
              "        document.querySelector('#df-e2004831-b016-46a6-aec7-ce6b5ff06b42 button.colab-df-convert');\n",
              "      buttonEl.style.display =\n",
              "        google.colab.kernel.accessAllowed ? 'block' : 'none';\n",
              "\n",
              "      async function convertToInteractive(key) {\n",
              "        const element = document.querySelector('#df-e2004831-b016-46a6-aec7-ce6b5ff06b42');\n",
              "        const dataTable =\n",
              "          await google.colab.kernel.invokeFunction('convertToInteractive',\n",
              "                                                    [key], {});\n",
              "        if (!dataTable) return;\n",
              "\n",
              "        const docLinkHtml = 'Like what you see? Visit the ' +\n",
              "          '<a target=\"_blank\" href=https://colab.research.google.com/notebooks/data_table.ipynb>data table notebook</a>'\n",
              "          + ' to learn more about interactive tables.';\n",
              "        element.innerHTML = '';\n",
              "        dataTable['output_type'] = 'display_data';\n",
              "        await google.colab.output.renderOutput(dataTable, element);\n",
              "        const docLink = document.createElement('div');\n",
              "        docLink.innerHTML = docLinkHtml;\n",
              "        element.appendChild(docLink);\n",
              "      }\n",
              "    </script>\n",
              "  </div>\n",
              "\n",
              "\n",
              "    </div>\n",
              "  </div>\n"
            ],
            "application/vnd.google.colaboratory.intrinsic+json": {
              "type": "dataframe",
              "repr_error": "Out of range float values are not JSON compliant: nan"
            }
          },
          "metadata": {},
          "execution_count": 78
        }
      ]
    },
    {
      "cell_type": "code",
      "source": [
        "#Fill all NaN values in combined_df with 0\n",
        "combofin_424 = combofin_424.fillna(0)"
      ],
      "metadata": {
        "id": "w3Ri6qZ3eeKj"
      },
      "execution_count": null,
      "outputs": []
    },
    {
      "cell_type": "code",
      "source": [
        "combofin_424['g_ink_po'].value_counts(dropna=False, sort=False).sort_index()\n"
      ],
      "metadata": {
        "colab": {
          "base_uri": "https://localhost:8080/",
          "height": 490
        },
        "id": "gAe2Eds6amBG",
        "outputId": "7659fb2b-cb49-482a-db22-ee50b724c466"
      },
      "execution_count": null,
      "outputs": [
        {
          "output_type": "execute_result",
          "data": {
            "text/plain": [
              "g_ink_po\n",
              "0.0      103232\n",
              "5.6           1\n",
              "5.9           1\n",
              "6.3           1\n",
              "6.5           1\n",
              "          ...  \n",
              "167.5         2\n",
              "170.4         1\n",
              "172.3         1\n",
              "177.0         1\n",
              "184.0         1\n",
              "Name: count, Length: 1026, dtype: int64"
            ],
            "text/html": [
              "<div>\n",
              "<style scoped>\n",
              "    .dataframe tbody tr th:only-of-type {\n",
              "        vertical-align: middle;\n",
              "    }\n",
              "\n",
              "    .dataframe tbody tr th {\n",
              "        vertical-align: top;\n",
              "    }\n",
              "\n",
              "    .dataframe thead th {\n",
              "        text-align: right;\n",
              "    }\n",
              "</style>\n",
              "<table border=\"1\" class=\"dataframe\">\n",
              "  <thead>\n",
              "    <tr style=\"text-align: right;\">\n",
              "      <th></th>\n",
              "      <th>count</th>\n",
              "    </tr>\n",
              "    <tr>\n",
              "      <th>g_ink_po</th>\n",
              "      <th></th>\n",
              "    </tr>\n",
              "  </thead>\n",
              "  <tbody>\n",
              "    <tr>\n",
              "      <th>0.0</th>\n",
              "      <td>103232</td>\n",
              "    </tr>\n",
              "    <tr>\n",
              "      <th>5.6</th>\n",
              "      <td>1</td>\n",
              "    </tr>\n",
              "    <tr>\n",
              "      <th>5.9</th>\n",
              "      <td>1</td>\n",
              "    </tr>\n",
              "    <tr>\n",
              "      <th>6.3</th>\n",
              "      <td>1</td>\n",
              "    </tr>\n",
              "    <tr>\n",
              "      <th>6.5</th>\n",
              "      <td>1</td>\n",
              "    </tr>\n",
              "    <tr>\n",
              "      <th>...</th>\n",
              "      <td>...</td>\n",
              "    </tr>\n",
              "    <tr>\n",
              "      <th>167.5</th>\n",
              "      <td>2</td>\n",
              "    </tr>\n",
              "    <tr>\n",
              "      <th>170.4</th>\n",
              "      <td>1</td>\n",
              "    </tr>\n",
              "    <tr>\n",
              "      <th>172.3</th>\n",
              "      <td>1</td>\n",
              "    </tr>\n",
              "    <tr>\n",
              "      <th>177.0</th>\n",
              "      <td>1</td>\n",
              "    </tr>\n",
              "    <tr>\n",
              "      <th>184.0</th>\n",
              "      <td>1</td>\n",
              "    </tr>\n",
              "  </tbody>\n",
              "</table>\n",
              "<p>1026 rows × 1 columns</p>\n",
              "</div><br><label><b>dtype:</b> int64</label>"
            ]
          },
          "metadata": {},
          "execution_count": 80
        }
      ]
    },
    {
      "cell_type": "code",
      "source": [
        "print(combofin_424.dtypes)"
      ],
      "metadata": {
        "colab": {
          "base_uri": "https://localhost:8080/"
        },
        "id": "tMp6TjRXa6u7",
        "outputId": "642a34a2-92a8-4ea0-8a6e-f13084f97200"
      },
      "execution_count": null,
      "outputs": [
        {
          "output_type": "stream",
          "name": "stdout",
          "text": [
            "gm_naam      object\n",
            "recs         object\n",
            "a_inw         int64\n",
            "a_woning      int64\n",
            "g_woz         int64\n",
            "g_hhgro     float64\n",
            "bev_dich      int64\n",
            "a_hh          int64\n",
            "p_1p_hh     float64\n",
            "p_koopw     float64\n",
            "p_huurw     float64\n",
            "g_ink_po    float64\n",
            "year          int64\n",
            "dtype: object\n"
          ]
        }
      ]
    },
    {
      "cell_type": "code",
      "source": [
        "print(combofin_424[combofin_424[\"year\"] == 2024].head(5))"
      ],
      "metadata": {
        "colab": {
          "base_uri": "https://localhost:8080/"
        },
        "id": "3Ew6lsyruoL5",
        "outputId": "1411cf32-80e5-439e-a5fb-c94d552a0811"
      },
      "execution_count": null,
      "outputs": [
        {
          "output_type": "stream",
          "name": "stdout",
          "text": [
            "          gm_naam      recs     a_inw  a_woning  g_woz  g_hhgro  bev_dich  \\\n",
            "314080  Nederland      Land  17942942   8204049    379      2.1       533   \n",
            "314081  Groningen  Gemeente    243768    124258    300      1.7      1314   \n",
            "314082  Groningen      Wijk     24920     13809    279      1.2     10907   \n",
            "314083  Groningen     Buurt      4745      2532    297      1.2     12788   \n",
            "314084  Groningen     Buurt      6975      4017    275      1.2     12663   \n",
            "\n",
            "           a_hh    p_1p_hh  p_koopw  p_huurw  g_ink_po  year  \n",
            "314080  8374404  39.890122     57.0     43.0       0.0  2024  \n",
            "314081   145764  60.888834     40.0     60.0       0.0  2024  \n",
            "314082    19890  81.372549     15.0     85.0       0.0  2024  \n",
            "314083     3910  83.248082     13.0     87.0       0.0  2024  \n",
            "314084     5715  82.677165     12.0     88.0       0.0  2024  \n"
          ]
        }
      ]
    },
    {
      "cell_type": "code",
      "source": [
        "combofin_424.to_csv(\"combofin_424\", index=False)"
      ],
      "metadata": {
        "id": "EkaDRD97cXHx"
      },
      "execution_count": null,
      "outputs": []
    },
    {
      "cell_type": "markdown",
      "source": [
        "# LOOKING FOR DIFFERENT RANDOM SYMBOLS IN THE TABLE"
      ],
      "metadata": {
        "id": "YEV7CJvkLLWf"
      }
    },
    {
      "cell_type": "code",
      "source": [
        "print(combined_df[combined_df[\"year\"] == 2005].head(20))"
      ],
      "metadata": {
        "colab": {
          "base_uri": "https://localhost:8080/"
        },
        "id": "5MPrgZ5mG2OH",
        "outputId": "fb573a83-7730-469e-f054-8bd19880f153"
      },
      "execution_count": null,
      "outputs": [
        {
          "output_type": "stream",
          "name": "stdout",
          "text": [
            "            gm_naam      recs     a_inw a_woning g_woz g_hhgro bev_dich  \\\n",
            "14203             0         0  16305530  6858720   202     2,3      483   \n",
            "14204    Appingedam  Gemeente     12440     5595   116     2,2      522   \n",
            "14205    Appingedam      Wijk     12440     5595   116     2,2      522   \n",
            "14206    Appingedam     Buurt      2520     1330   112     1,9     3000   \n",
            "14207    Appingedam     Buurt      3260     1305   159     2,5     2074   \n",
            "14208    Appingedam     Buurt      6250     2805    96     2,2     2193   \n",
            "14209    Appingedam     Buurt       150       60     x     2,6       28   \n",
            "14210    Appingedam     Buurt       100       45     x     2,4       18   \n",
            "14211    Appingedam     Buurt       150       55     x     2,4       20   \n",
            "14212         Bedum  Gemeente     10730     4150   163     2,5      241   \n",
            "14213         Bedum      Wijk     10730     4150   163     2,5      241   \n",
            "14214         Bedum     Buurt      8200     3200   155     2,5     2664   \n",
            "14215         Bedum     Buurt       430      135   264     3,2       20   \n",
            "14216         Bedum     Buurt      1000      390   185     2,5     1404   \n",
            "14217         Bedum     Buurt       140       45     x     2,8       19   \n",
            "14218         Bedum     Buurt       560      240   148     2,4     1008   \n",
            "14219         Bedum     Buurt       100       40     x     2,9       19   \n",
            "14220         Bedum     Buurt       150       60   217     2,6      631   \n",
            "14221         Bedum     Buurt       150       45     x     3,2       25   \n",
            "14222  Bellingwedde  Gemeente      9690     4095   155     2,3       89   \n",
            "\n",
            "          a_hh p_1p_hh p_koopw p_huurw  year  \n",
            "14203  7090960      35      55      45  2005  \n",
            "14204     5540      32      49      51  2005  \n",
            "14205     5540      32      49      51  2005  \n",
            "14206     1310      46      44      56  2005  \n",
            "14207     1300      20      68      32  2005  \n",
            "14208     2760      31      40      60  2005  \n",
            "14209       60      15      88      12  2005  \n",
            "14210       40      20      90       x  2005  \n",
            "14211       60      27      70      30  2005  \n",
            "14212     4160      26      70      30  2005  \n",
            "14213     4160      26      70      30  2005  \n",
            "14214     3200      26      68      32  2005  \n",
            "14215      140      15      88      12  2005  \n",
            "14216      410      26      74      26  2005  \n",
            "14217       50      17      85      15  2005  \n",
            "14218      240      30      74      26  2005  \n",
            "14219       40      17      86      14  2005  \n",
            "14220       60      18      90      10  2005  \n",
            "14221       50      15      86      14  2005  \n",
            "14222     4230      29      70      30  2005  \n"
          ]
        }
      ]
    },
    {
      "cell_type": "code",
      "source": [
        "#print(combofin_424[combofin_424['p_koopw'].isna()])\n",
        "#print(combofin_424[combofin_424['p_huurw'].isna()])"
      ],
      "metadata": {
        "colab": {
          "base_uri": "https://localhost:8080/"
        },
        "id": "OGVaZpzHImmf",
        "outputId": "0f107fc3-d597-40d4-c536-3d27156f88e5"
      },
      "execution_count": null,
      "outputs": [
        {
          "output_type": "stream",
          "name": "stdout",
          "text": [
            "Empty DataFrame\n",
            "Columns: [gm_naam, recs, a_inw, a_woning, g_woz, g_hhgro, bev_dich, a_hh, p_1p_hh, p_koopw, p_huurw, year]\n",
            "Index: []\n",
            "Empty DataFrame\n",
            "Columns: [gm_naam, recs, a_inw, a_woning, g_woz, g_hhgro, bev_dich, a_hh, p_1p_hh, p_koopw, p_huurw, year]\n",
            "Index: []\n"
          ]
        }
      ]
    },
    {
      "cell_type": "code",
      "source": [
        "# LOOKING FOR RANDOM SYMBOLS\n",
        "\n",
        "# Mask for rows with NaN in specific columns\n",
        "#nan_mask_koopw = combofin_424['p_koopw'].isna()\n",
        "#nan_mask_huurw = combofin_424['p_huurw'].isna()\n",
        "\n",
        "# Display the rows where NaNs appear in these columns in combofin_4_24\n",
        "#print(\"Rows with NaN in 'p_koopw' column:\")\n",
        "#print(combofin_424[nan_mask_koopw])\n",
        "\n",
        "#print(\"\\nRows with NaN in 'p_huurw' column:\")\n",
        "#print(combofin_424[nan_mask_huurw])"
      ],
      "metadata": {
        "colab": {
          "base_uri": "https://localhost:8080/"
        },
        "id": "0iKSpiDjJcJd",
        "outputId": "dd2be18e-595c-4377-c6d6-d2c2aff16160"
      },
      "execution_count": null,
      "outputs": [
        {
          "output_type": "stream",
          "name": "stdout",
          "text": [
            "Rows with NaN in 'p_koopw' column:\n",
            "                   gm_naam recs  a_inw  a_woning  g_woz  g_hhgro  bev_dich  \\\n",
            "115672            Delfzijl    B     10         5      0      0.0         1   \n",
            "115673            Delfzijl    B      5         0      0      0.0         0   \n",
            "115700           Groningen    B     55        15      0      1.5       348   \n",
            "115712           Groningen    B     15         5      0      1.4         5   \n",
            "115731           Groningen    B     30        10      0      1.9        10   \n",
            "...                    ...  ...    ...       ...    ...      ...       ...   \n",
            "130344        Menameradiel    B     65        20      0      3.4        33   \n",
            "130373      Hollands Kroon    B     50        15      0      3.1        35   \n",
            "130390      Hollands Kroon    B     20        10      0      0.0        13   \n",
            "130479  Pijnacker-Nootdorp    B     15         5      0      0.0        27   \n",
            "130500         Montferland    B     25        10      0      2.1         1   \n",
            "\n",
            "        a_hh  p_1p_hh  p_koopw  p_huurw  year  \n",
            "115672     5      0.0      NaN      NaN  2012  \n",
            "115673     0      0.0      NaN      NaN  2012  \n",
            "115700    35     75.0      NaN      NaN  2012  \n",
            "115712    10     60.0      NaN      NaN  2012  \n",
            "115731    15     56.0      NaN      NaN  2012  \n",
            "...      ...      ...      ...      ...   ...  \n",
            "130344    20     11.0      NaN      NaN  2012  \n",
            "130373    15     12.0      NaN      NaN  2012  \n",
            "130390    10      0.0      NaN      NaN  2012  \n",
            "130479     5      0.0      NaN      NaN  2012  \n",
            "130500    15     23.0      NaN      NaN  2012  \n",
            "\n",
            "[1017 rows x 12 columns]\n",
            "\n",
            "Rows with NaN in 'p_huurw' column:\n",
            "                   gm_naam recs  a_inw  a_woning  g_woz  g_hhgro  bev_dich  \\\n",
            "115672            Delfzijl    B     10         5      0      0.0         1   \n",
            "115673            Delfzijl    B      5         0      0      0.0         0   \n",
            "115700           Groningen    B     55        15      0      1.5       348   \n",
            "115712           Groningen    B     15         5      0      1.4         5   \n",
            "115731           Groningen    B     30        10      0      1.9        10   \n",
            "...                    ...  ...    ...       ...    ...      ...       ...   \n",
            "130344        Menameradiel    B     65        20      0      3.4        33   \n",
            "130373      Hollands Kroon    B     50        15      0      3.1        35   \n",
            "130390      Hollands Kroon    B     20        10      0      0.0        13   \n",
            "130479  Pijnacker-Nootdorp    B     15         5      0      0.0        27   \n",
            "130500         Montferland    B     25        10      0      2.1         1   \n",
            "\n",
            "        a_hh  p_1p_hh  p_koopw  p_huurw  year  \n",
            "115672     5      0.0      NaN      NaN  2012  \n",
            "115673     0      0.0      NaN      NaN  2012  \n",
            "115700    35     75.0      NaN      NaN  2012  \n",
            "115712    10     60.0      NaN      NaN  2012  \n",
            "115731    15     56.0      NaN      NaN  2012  \n",
            "...      ...      ...      ...      ...   ...  \n",
            "130344    20     11.0      NaN      NaN  2012  \n",
            "130373    15     12.0      NaN      NaN  2012  \n",
            "130390    10      0.0      NaN      NaN  2012  \n",
            "130479     5      0.0      NaN      NaN  2012  \n",
            "130500    15     23.0      NaN      NaN  2012  \n",
            "\n",
            "[1017 rows x 12 columns]\n"
          ]
        }
      ]
    },
    {
      "cell_type": "code",
      "source": [
        "# Check the original values in combined_df that caused the NaNs\n",
        "#print(\"Original values in 'combined_df' for 'p_koopw' that became NaN:\")\n",
        "#print(combined_df[nan_mask_koopw][['p_koopw']])\n",
        "\n",
        "#print(\"\\nOriginal values in 'combined_df' for 'p_huurw' that became NaN:\")\n",
        "#print(combined_df[nan_mask_huurw][['p_huurw']])"
      ],
      "metadata": {
        "colab": {
          "base_uri": "https://localhost:8080/"
        },
        "id": "zlX5zb__Jk4q",
        "outputId": "d9e287f6-5530-487c-8bb1-757b04aeb55e"
      },
      "execution_count": null,
      "outputs": [
        {
          "output_type": "stream",
          "name": "stdout",
          "text": [
            "Original values in 'combined_df' for 'p_koopw' that became NaN:\n",
            "       p_koopw\n",
            "115672       X\n",
            "115673       X\n",
            "115700       X\n",
            "115712       X\n",
            "115731       X\n",
            "...        ...\n",
            "130344       X\n",
            "130373       X\n",
            "130390       X\n",
            "130479       X\n",
            "130500       X\n",
            "\n",
            "[1017 rows x 1 columns]\n",
            "\n",
            "Original values in 'combined_df' for 'p_huurw' that became NaN:\n",
            "       p_huurw\n",
            "115672       X\n",
            "115673       X\n",
            "115700       X\n",
            "115712       X\n",
            "115731       X\n",
            "...        ...\n",
            "130344       X\n",
            "130373       X\n",
            "130390       X\n",
            "130479       X\n",
            "130500       X\n",
            "\n",
            "[1017 rows x 1 columns]\n"
          ]
        }
      ]
    },
    {
      "cell_type": "code",
      "source": [
        "print(f\"Before conversion in column {col}:\")\n",
        "print(combofin_424[col].unique())"
      ],
      "metadata": {
        "colab": {
          "base_uri": "https://localhost:8080/"
        },
        "id": "4r05l8etCGCm",
        "outputId": "3080ff74-eaaf-485b-9c5c-7596dd980146"
      },
      "execution_count": null,
      "outputs": [
        {
          "output_type": "stream",
          "name": "stdout",
          "text": [
            "Before conversion in column p_huurw:\n",
            "[ 47.  53.  59.  34.  62.   9.  17.  25.  30.  32.  15.  27.  26.  12.\n",
            "  13.  33.  37.  19.  35.  48.   0.   5.  21.  44.  11.  40.   7.  20.\n",
            "  22.  16.  23.  29.  24.  43.  50.  74.  41.  28.  39.  18.  61.  65.\n",
            "  66.  68.  70.  63.  58.  38.  76.  85.  84.  71.  86.  96.  75.  94.\n",
            "  95.  78.  49.  67.  97.  69.  52.  57.  31.  42.  83.  54. 100.  60.\n",
            "  36.   2.  10.   8.  46.   6.  55.  80.  82.   3.  14.  45.  89.  93.\n",
            "  81.  56.  51.  73.   1.  92.  79.  64.  77.  87.  90.  72.  99.  91.\n",
            "   4.  88.  98.]\n"
          ]
        }
      ]
    },
    {
      "cell_type": "code",
      "source": [
        "# Check if there are any negative values in the DataFrame\n",
        "negative_val = (combofin_df.select_dtypes(include=['number']) < 0).any().any()\n",
        "\n",
        "# Print the result\n",
        "if negative_val:\n",
        "    print(\"There are negative values in the DataFrame.\")\n",
        "else:\n",
        "    print(\"There are no negative values in the DataFrame.\")"
      ],
      "metadata": {
        "colab": {
          "base_uri": "https://localhost:8080/"
        },
        "id": "sCsfwy51Avi7",
        "outputId": "74305254-6c0e-486f-e306-b081b885c682"
      },
      "execution_count": null,
      "outputs": [
        {
          "output_type": "stream",
          "name": "stdout",
          "text": [
            "There are no negative values in the DataFrame.\n"
          ]
        }
      ]
    },
    {
      "cell_type": "markdown",
      "source": [
        "## different check *ups*"
      ],
      "metadata": {
        "id": "J9hgjBi2cCAf"
      }
    },
    {
      "cell_type": "code",
      "source": [
        "print(combined_df[\"year\"].unique())\n",
        "print(combined_df[combined_df[\"year\"] == 2007])"
      ],
      "metadata": {
        "colab": {
          "base_uri": "https://localhost:8080/"
        },
        "id": "EMCaN4YjSv-J",
        "outputId": "7a87c79e-a46e-44bf-b4dc-6dea33d6ec9e"
      },
      "execution_count": null,
      "outputs": [
        {
          "output_type": "stream",
          "name": "stdout",
          "text": [
            "[2004 2005 2006 2007 2008 2009 2010 2011 2012 2013 2014 2015 2016 2017\n",
            " 2018 2019 2020 2021 2022 2023 2024]\n",
            "           gm_naam      recs     a_inw a_woning g_woz g_hhgro bev_dich  \\\n",
            "42762            0         0  16357990  6967045   217     2,2      485   \n",
            "42763   Appingedam  Gemeente     12190     5515   137     2,2      511   \n",
            "42764   Appingedam      Wijk     12190     5515   137     2,2      511   \n",
            "42765   Appingedam     Buurt      2520     1335   129     1,8     2994   \n",
            "42766   Appingedam     Buurt      3190     1310   176     2,4     2040   \n",
            "...            ...       ...       ...      ...   ...     ...      ...   \n",
            "57131  Menterwolde     Buurt      4520     1945   141     2,4     1944   \n",
            "57132  Menterwolde     Buurt        90       30     x     2,8      185   \n",
            "57133  Menterwolde     Buurt       130       45     x     2,7       36   \n",
            "57134  Menterwolde     Buurt        50       25     x     2,2       38   \n",
            "57135  Menterwolde     Buurt        60       25     x     2,7        5   \n",
            "\n",
            "          a_hh p_1p_hh  p_koopw p_huurw  year  \n",
            "42762  7190540      35      0.0       0  2007  \n",
            "42763     5440      32      0.0       0  2007  \n",
            "42764     5440      32      0.0       0  2007  \n",
            "42765     1330      48      0.0       0  2007  \n",
            "42766     1310      21      0.0       0  2007  \n",
            "...        ...     ...      ...     ...   ...  \n",
            "57131     1910      26      0.0       0  2007  \n",
            "57132       30      30      0.0       0  2007  \n",
            "57133       50      19      0.0       0  2007  \n",
            "57134       20      21      0.0       0  2007  \n",
            "57135       20      25      0.0       0  2007  \n",
            "\n",
            "[14374 rows x 12 columns]\n"
          ]
        }
      ]
    },
    {
      "cell_type": "code",
      "source": [
        "average_p_koopw_2008 = combined_df[\n",
        "    (combined_df[\"year\"] == 2008) & (combined_df[\"recs\"] == \"Gemeente\")\n",
        "][\"p_koopw\"].mean()\n",
        "\n",
        "print(average_p_koopw_2008)"
      ],
      "metadata": {
        "colab": {
          "base_uri": "https://localhost:8080/"
        },
        "id": "_yvEN3dqSQ7k",
        "outputId": "6a0c6591-025e-4042-99a0-09df6d10f1e6"
      },
      "execution_count": null,
      "outputs": [
        {
          "output_type": "stream",
          "name": "stdout",
          "text": [
            "0.0\n"
          ]
        }
      ]
    },
    {
      "cell_type": "code",
      "source": [
        "cols_to_convert = [\"a_woning\", \"g_woz\", \"g_hhgro\", \"bev_dich\", \"a_hh\", \"p_1p_hh\", \"p_huurw\"]\n",
        "\n",
        "for col in cols_to_convert:\n",
        "    combined_df[col] = pd.to_numeric(combined_df[col], errors=\"coerce\")"
      ],
      "metadata": {
        "id": "3nQRXAd7avtA"
      },
      "execution_count": null,
      "outputs": []
    },
    {
      "cell_type": "code",
      "source": [
        "average_p_koopw_2009 = combined_df[\n",
        "    (combined_df[\"year\"] == 2009) & (combined_df[\"recs\"] == \"Gemeente\")\n",
        "][\"p_koopw\"].mean()\n",
        "\n",
        "print(average_p_koopw_2009)"
      ],
      "metadata": {
        "colab": {
          "base_uri": "https://localhost:8080/"
        },
        "id": "xjUXbNTfVIHz",
        "outputId": "0280b228-eb8d-4d8b-a87e-f9a18a511bb5"
      },
      "execution_count": null,
      "outputs": [
        {
          "output_type": "stream",
          "name": "stdout",
          "text": [
            "64.03628117913833\n"
          ]
        }
      ]
    },
    {
      "cell_type": "code",
      "source": [
        "average_p_koopw_2004 = combined_df[\n",
        "    (combined_df[\"year\"] == 2004) & (combined_df[\"recs\"] == \"Gemeente\")\n",
        "][\"p_koopw\"].mean()\n",
        "\n",
        "print(average_p_koopw_2004)"
      ],
      "metadata": {
        "colab": {
          "base_uri": "https://localhost:8080/"
        },
        "id": "cGtZ17HjSW2r",
        "outputId": "1fb79942-2bb5-463c-d0b9-b3768bfd56e9"
      },
      "execution_count": null,
      "outputs": [
        {
          "output_type": "stream",
          "name": "stdout",
          "text": [
            "62.84265010351967\n"
          ]
        }
      ]
    },
    {
      "cell_type": "code",
      "source": [
        "print(combined_df[combined_df[\"year\"] == 2024].head(10))"
      ],
      "metadata": {
        "colab": {
          "base_uri": "https://localhost:8080/"
        },
        "id": "hkubB9ZGWWKX",
        "outputId": "08306a97-12d9-4258-cf0c-4c15667f76dd"
      },
      "execution_count": null,
      "outputs": [
        {
          "output_type": "stream",
          "name": "stdout",
          "text": [
            "          gm_naam      recs     a_inw   a_woning  g_woz  g_hhgro  bev_dich  \\\n",
            "314080  Nederland      Land  17942942  8204049.0  379.0      0.0     533.0   \n",
            "314081  Groningen  Gemeente    243768   124258.0  300.0      0.0    1314.0   \n",
            "314082  Groningen      Wijk     24920    13809.0  279.0      0.0   10907.0   \n",
            "314083  Groningen     Buurt      4745     2532.0  297.0      0.0   12788.0   \n",
            "314084  Groningen     Buurt      6975     4017.0  275.0      0.0   12663.0   \n",
            "314085  Groningen     Buurt      4400     2740.0  252.0      0.0   16413.0   \n",
            "314086  Groningen     Buurt      1740     1060.0  276.0      0.0   17792.0   \n",
            "314087  Groningen     Buurt        10        0.0    0.0      0.0      52.0   \n",
            "314088  Groningen     Buurt      6575     3367.0  287.0      0.0   15118.0   \n",
            "314089  Groningen     Buurt         0        1.0    0.0      0.0       0.0   \n",
            "\n",
            "             a_hh   p_1p_hh  p_koopw  p_huurw  year  \n",
            "314080  8374404.0  0.003989     57.0     43.0  2024  \n",
            "314081   145764.0  0.006089     40.0     60.0  2024  \n",
            "314082    19890.0  0.008137     15.0     85.0  2024  \n",
            "314083     3910.0  0.008325     13.0     87.0  2024  \n",
            "314084     5715.0  0.008268     12.0     88.0  2024  \n",
            "314085     3510.0  0.008020     11.0     88.0  2024  \n",
            "314086     1410.0  0.008085     13.0     87.0  2024  \n",
            "314087        5.0  0.000000      0.0      0.0  2024  \n",
            "314088     5025.0  0.008030     24.0     76.0  2024  \n",
            "314089        0.0  0.000000      0.0      0.0  2024  \n"
          ]
        }
      ]
    },
    {
      "cell_type": "code",
      "source": [
        "combined_df.shape\n"
      ],
      "metadata": {
        "colab": {
          "base_uri": "https://localhost:8080/"
        },
        "id": "cNp6M6fvZvJA",
        "outputId": "731cd9d5-e5db-41a1-8070-78a8bce9609f"
      },
      "execution_count": null,
      "outputs": [
        {
          "output_type": "execute_result",
          "data": {
            "text/plain": [
              "(332390, 12)"
            ]
          },
          "metadata": {},
          "execution_count": 127
        }
      ]
    },
    {
      "cell_type": "code",
      "source": [
        "# Types of values to take care of:\n",
        "# str: '5,', '5.', '.', 'X' -> df['col'].value_counts(dropna=False, sort=False).sort_index()\n",
        "# bool\n",
        "# object\n",
        "\n",
        "\n",
        "\n",
        "\n",
        "# pd.Series([0,0,1,2,3,4,5,6,7,7,7,7,7,77,'x', '.', 'xxx']).unique()\n"
      ],
      "metadata": {
        "id": "TxTBk_RdbXfL"
      },
      "execution_count": null,
      "outputs": []
    }
  ],
  "metadata": {
    "colab": {
      "provenance": [],
      "collapsed_sections": [
        "YEV7CJvkLLWf",
        "J9hgjBi2cCAf"
      ]
    },
    "kernelspec": {
      "display_name": "Python 3",
      "name": "python3"
    },
    "language_info": {
      "name": "python"
    }
  },
  "nbformat": 4,
  "nbformat_minor": 0
}