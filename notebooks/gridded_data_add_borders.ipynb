{
  "nbformat": 4,
  "nbformat_minor": 0,
  "metadata": {
    "colab": {
      "provenance": []
    },
    "kernelspec": {
      "name": "python3",
      "display_name": "Python 3"
    },
    "language_info": {
      "name": "python"
    }
  },
  "cells": [
    {
      "cell_type": "code",
      "source": [
        "from google.colab import drive\n",
        "drive.mount('/content/drive')\n",
        "import pandas as pd\n",
        "import geopandas as gpd"
      ],
      "metadata": {
        "colab": {
          "base_uri": "https://localhost:8080/"
        },
        "id": "RIdtL2kdPk50",
        "outputId": "4054947b-4fca-40bc-af6a-8114b79c2cfa"
      },
      "execution_count": 4,
      "outputs": [
        {
          "output_type": "stream",
          "name": "stdout",
          "text": [
            "Drive already mounted at /content/drive; to attempt to forcibly remount, call drive.mount(\"/content/drive\", force_remount=True).\n"
          ]
        }
      ]
    },
    {
      "cell_type": "markdown",
      "source": [
        "## 2023"
      ],
      "metadata": {
        "id": "w119Vwe8Ps4Z"
      }
    },
    {
      "cell_type": "code",
      "source": [
        "# Load gridded data\n",
        "grid = gpd.read_file(\"/content/drive/MyDrive/LE WAGON/final project/old_files/cbs_vk500_2023_v1.gpkg\")\n",
        "\n",
        "# Load city, district and neighborhood shapefiles\n",
        "borders = gpd.read_file(\"/content/drive/MyDrive/LE WAGON/final project/wijkenbuurten_2024_v1.gpkg\")\n",
        "\n",
        "# Select columns of interest\n",
        "columns_of_interest = ['gemeentenaam', 'buurtcode', 'buurtnaam', 'wijkcode', 'gemeentecode', 'geometry']\n",
        "\n",
        "# Spatially join the gridded data with the borders\n",
        "gdf = gpd.sjoin(grid, borders[columns_of_interest], predicate='intersects')\n",
        "\n",
        "# Put columns of interest in the front\n",
        "gdf = gdf[columns_of_interest + [col for col in gdf.columns if col not in columns_of_interest]]\n",
        "\n",
        "# Save the resulting file\n",
        "gdf.to_csv('statistics_2023.csv', index=False)"
      ],
      "metadata": {
        "colab": {
          "base_uri": "https://localhost:8080/"
        },
        "id": "iR__3_z2RM4h",
        "outputId": "3e7f481f-52b9-4e64-f620-a79f59904b28"
      },
      "execution_count": null,
      "outputs": [
        {
          "output_type": "stream",
          "name": "stderr",
          "text": [
            "/usr/local/lib/python3.11/dist-packages/pyogrio/geopandas.py:265: UserWarning: More than one layer found in 'wijkenbuurten_2024_v1.gpkg': 'buurten' (default), 'gemeenten', 'wijken'. Specify layer parameter to avoid this warning.\n",
            "  result = read_func(\n"
          ]
        }
      ]
    },
    {
      "cell_type": "code",
      "source": [
        "from google.colab import drive\n",
        "drive.mount('/content/drive')"
      ],
      "metadata": {
        "id": "3S8AKipeQME1"
      },
      "execution_count": null,
      "outputs": []
    },
    {
      "cell_type": "markdown",
      "source": [
        "## 2018"
      ],
      "metadata": {
        "id": "BrCJQa_kPFQt"
      }
    },
    {
      "cell_type": "code",
      "source": [
        "# Load gridded data\n",
        "grid = gpd.read_file(\"/content/drive/MyDrive/LE WAGON/final project/old_files/cbs_vk500_2018.gpkg\")\n",
        "\n",
        "# Load city, district and neighborhood shapefiles\n",
        "borders = gpd.read_file(\"/content/drive/MyDrive/LE WAGON/final project/wijkenbuurten_2024_v1.gpkg\")\n",
        "\n",
        "# Select columns of interest\n",
        "columns_of_interest = ['gemeentenaam', 'buurtcode', 'buurtnaam', 'wijkcode', 'gemeentecode', 'geometry']\n",
        "\n",
        "# Spatially join the gridded data with the borders\n",
        "gdf = gpd.sjoin(grid, borders[columns_of_interest], predicate='intersects')\n",
        "\n",
        "# Put columns of interest in the front\n",
        "gdf = gdf[columns_of_interest + [col for col in gdf.columns if col not in columns_of_interest]]\n",
        "\n",
        "# Save the resulting file\n",
        "gdf.to_csv('statistics_2018.csv', index=False)"
      ],
      "metadata": {
        "colab": {
          "base_uri": "https://localhost:8080/"
        },
        "id": "vMYRv59SJDis",
        "outputId": "f6d94cc7-7d08-453b-a53d-dc53035cd83f"
      },
      "execution_count": 3,
      "outputs": [
        {
          "output_type": "stream",
          "name": "stderr",
          "text": [
            "/usr/local/lib/python3.11/dist-packages/pyogrio/geopandas.py:265: UserWarning: More than one layer found in 'wijkenbuurten_2024_v1.gpkg': 'buurten' (default), 'gemeenten', 'wijken'. Specify layer parameter to avoid this warning.\n",
            "  result = read_func(\n"
          ]
        }
      ]
    },
    {
      "cell_type": "markdown",
      "source": [
        "## 2017"
      ],
      "metadata": {
        "id": "uy7HXPIobztC"
      }
    },
    {
      "cell_type": "code",
      "source": [
        "# Load gridded data\n",
        "grid = gpd.read_file(\"/content/drive/MyDrive/LE WAGON/final project/old_files/cbs_vk500_2017.gpkg\")\n",
        "\n",
        "# Load city, district and neighborhood shapefiles\n",
        "borders = gpd.read_file(\"/content/drive/MyDrive/LE WAGON/final project/wijkenbuurten_2024_v1.gpkg\")\n",
        "\n",
        "# Select columns of interest\n",
        "columns_of_interest = ['gemeentenaam', 'buurtcode', 'buurtnaam', 'wijkcode', 'gemeentecode', 'geometry']\n",
        "\n",
        "# Spatially join the gridded data with the borders\n",
        "gdf = gpd.sjoin(grid, borders[columns_of_interest], predicate='intersects')\n",
        "\n",
        "# Put columns of interest in the front\n",
        "gdf = gdf[columns_of_interest + [col for col in gdf.columns if col not in columns_of_interest]]\n",
        "\n",
        "# Save the resulting file\n",
        "gdf.to_csv('statistics_2017.csv', index=False)"
      ],
      "metadata": {
        "colab": {
          "base_uri": "https://localhost:8080/"
        },
        "id": "Ukdl6EIJbyIw",
        "outputId": "dfddb7cc-b4d7-4138-cf9c-641828bf471f"
      },
      "execution_count": 5,
      "outputs": [
        {
          "output_type": "stream",
          "name": "stderr",
          "text": [
            "/usr/local/lib/python3.11/dist-packages/pyogrio/geopandas.py:265: UserWarning: More than one layer found in 'wijkenbuurten_2024_v1.gpkg': 'buurten' (default), 'gemeenten', 'wijken'. Specify layer parameter to avoid this warning.\n",
            "  result = read_func(\n"
          ]
        }
      ]
    },
    {
      "cell_type": "markdown",
      "source": [
        "## 2016"
      ],
      "metadata": {
        "id": "SzQXhBrgwngB"
      }
    },
    {
      "cell_type": "code",
      "source": [
        "# Load gridded data\n",
        "grid = gpd.read_file(\"/content/drive/MyDrive/LE WAGON/final project/old_files/CBS_VK500_2016_v2.shp\")\n",
        "\n",
        "# Load city, district and neighborhood shapefiles\n",
        "borders = gpd.read_file(\"/content/drive/MyDrive/LE WAGON/final project/wijkenbuurten_2024_v1.gpkg\")\n",
        "\n",
        "# Select columns of interest\n",
        "columns_of_interest = ['gemeentenaam', 'buurtcode', 'buurtnaam', 'wijkcode', 'gemeentecode', 'geometry']\n",
        "\n",
        "# Spatially join the gridded data with the borders\n",
        "gdf = gpd.sjoin(grid, borders[columns_of_interest], predicate='intersects')\n",
        "\n",
        "# Put columns of interest in the front\n",
        "gdf = gdf[columns_of_interest + [col for col in gdf.columns if col not in columns_of_interest]]\n",
        "\n",
        "# Save the resulting file\n",
        "gdf.to_csv('statistics_2016.csv', index=False)"
      ],
      "metadata": {
        "colab": {
          "base_uri": "https://localhost:8080/"
        },
        "id": "ohakXGoCtD3J",
        "outputId": "c75a74ba-c16f-4b2f-bb6b-9d1ed4e83192"
      },
      "execution_count": 6,
      "outputs": [
        {
          "output_type": "stream",
          "name": "stderr",
          "text": [
            "/usr/local/lib/python3.11/dist-packages/pyogrio/geopandas.py:265: UserWarning: More than one layer found in 'wijkenbuurten_2024_v1.gpkg': 'buurten' (default), 'gemeenten', 'wijken'. Specify layer parameter to avoid this warning.\n",
            "  result = read_func(\n"
          ]
        }
      ]
    },
    {
      "cell_type": "markdown",
      "source": [
        "## 2015"
      ],
      "metadata": {
        "id": "_Gj2G2MMw3LG"
      }
    },
    {
      "cell_type": "code",
      "source": [
        "# Load gridded data\n",
        "grid = gpd.read_file(\"/content/drive/MyDrive/LE WAGON/final project/old_files/CBS_VK500_2015_v2.shp\")\n",
        "\n",
        "# Load city, district and neighborhood shapefiles\n",
        "borders = gpd.read_file(\"/content/drive/MyDrive/LE WAGON/final project/wijkenbuurten_2024_v1.gpkg\")\n",
        "\n",
        "# Select columns of interest\n",
        "columns_of_interest = ['gemeentenaam', 'buurtcode', 'buurtnaam', 'wijkcode', 'gemeentecode', 'geometry']\n",
        "\n",
        "# Spatially join the gridded data with the borders\n",
        "gdf = gpd.sjoin(grid, borders[columns_of_interest], predicate='intersects')\n",
        "\n",
        "# Put columns of interest in the front\n",
        "gdf = gdf[columns_of_interest + [col for col in gdf.columns if col not in columns_of_interest]]\n",
        "\n",
        "# Save the resulting file\n",
        "gdf.to_csv('statistics_2015.csv', index=False)"
      ],
      "metadata": {
        "colab": {
          "base_uri": "https://localhost:8080/"
        },
        "id": "MjsIPj4Zw6kR",
        "outputId": "5c4bc106-98b0-48cf-becf-24d0188fc356"
      },
      "execution_count": 7,
      "outputs": [
        {
          "output_type": "stream",
          "name": "stderr",
          "text": [
            "/usr/local/lib/python3.11/dist-packages/pyogrio/geopandas.py:265: UserWarning: More than one layer found in 'wijkenbuurten_2024_v1.gpkg': 'buurten' (default), 'gemeenten', 'wijken'. Specify layer parameter to avoid this warning.\n",
            "  result = read_func(\n"
          ]
        }
      ]
    }
  ]
}