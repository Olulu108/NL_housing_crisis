{
  "nbformat": 4,
  "nbformat_minor": 0,
  "metadata": {
    "colab": {
      "provenance": []
    },
    "kernelspec": {
      "name": "python3",
      "display_name": "Python 3"
    },
    "language_info": {
      "name": "python"
    }
  },
  "cells": [
    {
      "cell_type": "code",
      "source": [
        "import pandas as pd\n",
        "import geopandas as gpd\n",
        "\n",
        "# Load gridded data\n",
        "grid = gpd.read_file(\"/content/drive/MyDrive/LE WAGON/final project/old_files/cbs_vk500_2023_v1.gpkg\")\n",
        "\n",
        "# Load city, district and neighborhood shapefiles\n",
        "borders = gpd.read_file(\"/content/drive/MyDrive/LE WAGON/final project/wijkenbuurten_2024_v1.gpkg\")\n",
        "\n",
        "# Select columns of interest\n",
        "columns_of_interest = ['gemeentenaam', 'buurtcode', 'buurtnaam', 'wijkcode', 'gemeentecode', 'geometry']\n",
        "\n",
        "# Spatially join the gridded data with the borders\n",
        "gdf = gpd.sjoin(grid, borders[columns_of_interest], predicate='intersects')\n",
        "\n",
        "# Put columns of interest in the front\n",
        "gdf = gdf[columns_of_interest + [col for col in gdf.columns if col not in columns_of_interest]]\n",
        "\n",
        "# Save the resulting file\n",
        "gdf.to_csv('statistics2_2023.csv', index=False)"
      ],
      "metadata": {
        "colab": {
          "base_uri": "https://localhost:8080/"
        },
        "id": "iR__3_z2RM4h",
        "outputId": "3e7f481f-52b9-4e64-f620-a79f59904b28"
      },
      "execution_count": 11,
      "outputs": [
        {
          "output_type": "stream",
          "name": "stderr",
          "text": [
            "/usr/local/lib/python3.11/dist-packages/pyogrio/geopandas.py:265: UserWarning: More than one layer found in 'wijkenbuurten_2024_v1.gpkg': 'buurten' (default), 'gemeenten', 'wijken'. Specify layer parameter to avoid this warning.\n",
            "  result = read_func(\n"
          ]
        }
      ]
    }
  ]
}